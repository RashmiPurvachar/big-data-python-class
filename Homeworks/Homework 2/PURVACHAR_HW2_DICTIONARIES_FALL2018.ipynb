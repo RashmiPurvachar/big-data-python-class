{
 "cells": [
  {
   "cell_type": "markdown",
   "metadata": {},
   "source": [
    "# Python Dictionaries"
   ]
  },
  {
   "cell_type": "markdown",
   "metadata": {},
   "source": [
    "Python dictionary is an unordered collection of items. While other compound data types have only value as an element, a dictionary has a key: value pair.\n",
    "\n",
    "-  Each key is separated from its value by a colon (:), the items are separated by commas, and the whole thing is enclosed in curly braces. \n",
    "-  An empty dictionary without any items is written with just two curly braces, like this: {}.\n",
    "\n",
    "-  Keys are unique within a dictionary while values may not be. \n",
    "-  The values of a dictionary can be of any type, but the keys must be of an immutable data type such as strings, numbers, or tuples.\n",
    "\n"
   ]
  },
  {
   "cell_type": "markdown",
   "metadata": {},
   "source": [
    "### Creation of a python dictionary\n",
    "\n",
    "Phython dictionary is created by placing items inside curly braces {} separated by comma. we can also create a dictionary using the built-in function dict()\n",
    "\n",
    "-  An item has a key and the corresponding value expressed as a pair, key: value.\n",
    "-  While values can be of any data type and can repeat, keys must be of immutable type (string, number or tuple with immutable elements) and must be unique."
   ]
  },
  {
   "cell_type": "code",
   "execution_count": 1,
   "metadata": {},
   "outputs": [],
   "source": [
    "# empty dictionary\n",
    "my_dict = {}\n",
    "\n",
    "# dictionary with integer keys\n",
    "my_dict = {1: 'apple', 2: 'ball'}\n",
    "\n",
    "# dictionary with mixed keys\n",
    "my_dict = {'name': 'John', 1: [2, 4, 3]}\n",
    "\n",
    "# using dict()\n",
    "my_dict = dict({1:'apple', 2:'ball'})\n",
    "\n",
    "# from sequence having each item as a pair\n",
    "my_dict = dict([(1,'apple'), (2,'ball')])"
   ]
  },
  {
   "cell_type": "markdown",
   "metadata": {},
   "source": [
    "### Accessing a dictionary\n",
    "\n",
    "To access dictionary elements, square brackets is used along with the key to obtain its value"
   ]
  },
  {
   "cell_type": "code",
   "execution_count": 4,
   "metadata": {},
   "outputs": [
    {
     "name": "stdout",
     "output_type": "stream",
     "text": [
      "Jack\n",
      "26\n",
      "None\n"
     ]
    },
    {
     "ename": "KeyError",
     "evalue": "'address'",
     "output_type": "error",
     "traceback": [
      "\u001b[0;31m---------------------------------------------------------------------------\u001b[0m",
      "\u001b[0;31mKeyError\u001b[0m                                  Traceback (most recent call last)",
      "\u001b[0;32m<ipython-input-4-f3ef671deed1>\u001b[0m in \u001b[0;36m<module>\u001b[0;34m()\u001b[0m\n\u001b[1;32m      6\u001b[0m \u001b[0;31m# Trying to access keys which doesn't exist throws error\u001b[0m\u001b[0;34m\u001b[0m\u001b[0;34m\u001b[0m\u001b[0m\n\u001b[1;32m      7\u001b[0m \u001b[0;32mprint\u001b[0m\u001b[0;34m(\u001b[0m\u001b[0mmy_dict\u001b[0m\u001b[0;34m.\u001b[0m\u001b[0mget\u001b[0m\u001b[0;34m(\u001b[0m\u001b[0;34m'address'\u001b[0m\u001b[0;34m)\u001b[0m\u001b[0;34m)\u001b[0m\u001b[0;34m\u001b[0m\u001b[0m\n\u001b[0;32m----> 8\u001b[0;31m \u001b[0;32mprint\u001b[0m\u001b[0;34m(\u001b[0m\u001b[0mmy_dict\u001b[0m\u001b[0;34m[\u001b[0m\u001b[0;34m'address'\u001b[0m\u001b[0;34m]\u001b[0m\u001b[0;34m)\u001b[0m\u001b[0;34m\u001b[0m\u001b[0m\n\u001b[0m",
      "\u001b[0;31mKeyError\u001b[0m: 'address'"
     ]
    }
   ],
   "source": [
    "my_dict = {'name':'Jack', 'age': 26}\n",
    "\n",
    "print(my_dict['name'])\n",
    "print(my_dict.get('age'))\n",
    "\n",
    "# Trying to access keys which doesn't exist throws error\n",
    "#print(my_dict.get('course'))\n",
    "print(my_dict['course'])"
   ]
  },
  {
   "cell_type": "markdown",
   "metadata": {},
   "source": [
    "### Modifying a dictionary\n",
    "\n",
    "New items can be added or values of existing items can be changed using an assignment operator.\n",
    "\n",
    "If the key is already present, value gets updated, else a new 'key: value' pair is added to the dictionary."
   ]
  },
  {
   "cell_type": "code",
   "execution_count": 6,
   "metadata": {},
   "outputs": [
    {
     "name": "stdout",
     "output_type": "stream",
     "text": [
      "{'age': 27, 'name': 'Jack'}\n",
      "{'course': 'Computers Science', 'age': 27, 'name': 'Jack'}\n"
     ]
    }
   ],
   "source": [
    "my_dict = {'name':'Jack', 'age': 26}\n",
    "\n",
    "# update value\n",
    "my_dict['age'] = 27\n",
    "print(my_dict)\n",
    "\n",
    "# add item\n",
    "my_dict['course'] = 'Computers Science'  \n",
    "print(my_dict)"
   ]
  },
  {
   "cell_type": "markdown",
   "metadata": {},
   "source": [
    "### Deleting a dictionary\n",
    "\n",
    "-  A particular item can be removed in a dictionary by using the method pop(). This method removes as item with the provided key and returns the value.\n",
    "-  Method popitem() can be used to remove and return an arbitrary item (key, value) form the dictionary. \n",
    "-  All the items can be removed at once using the clear() method.\n",
    "-  We can also use the 'del' keyword to remove individual items or the entire dictionary itself."
   ]
  },
  {
   "cell_type": "code",
   "execution_count": 8,
   "metadata": {},
   "outputs": [
    {
     "name": "stdout",
     "output_type": "stream",
     "text": [
      "16\n",
      "{1: 1, 2: 4, 3: 9, 5: 25}\n",
      "(1, 1)\n",
      "{2: 4, 3: 9, 5: 25}\n",
      "{2: 4, 3: 9}\n",
      "{}\n"
     ]
    },
    {
     "ename": "NameError",
     "evalue": "name 'squares' is not defined",
     "output_type": "error",
     "traceback": [
      "\u001b[0;31m---------------------------------------------------------------------------\u001b[0m",
      "\u001b[0;31mNameError\u001b[0m                                 Traceback (most recent call last)",
      "\u001b[0;32m<ipython-input-8-af78eb6051c6>\u001b[0m in \u001b[0;36m<module>\u001b[0;34m()\u001b[0m\n\u001b[1;32m     20\u001b[0m \u001b[0;31m# delete the dictionary itself\u001b[0m\u001b[0;34m\u001b[0m\u001b[0;34m\u001b[0m\u001b[0m\n\u001b[1;32m     21\u001b[0m \u001b[0;32mdel\u001b[0m \u001b[0msquares\u001b[0m\u001b[0;34m\u001b[0m\u001b[0m\n\u001b[0;32m---> 22\u001b[0;31m \u001b[0;32mprint\u001b[0m\u001b[0;34m(\u001b[0m\u001b[0msquares\u001b[0m\u001b[0;34m)\u001b[0m\u001b[0;34m\u001b[0m\u001b[0m\n\u001b[0m",
      "\u001b[0;31mNameError\u001b[0m: name 'squares' is not defined"
     ]
    }
   ],
   "source": [
    "# create a dictionary\n",
    "squares = {1:1, 2:4, 3:9, 4:16, 5:25}  \n",
    "\n",
    "# remove a particular item\n",
    "print(squares.pop(4))  \n",
    "print(squares)\n",
    "\n",
    "# remove an arbitrary item\n",
    "print(squares.popitem())\n",
    "print(squares)\n",
    "\n",
    "# delete a particular item\n",
    "del squares[5]  \n",
    "print(squares)\n",
    "\n",
    "# remove all items\n",
    "squares.clear()\n",
    "print(squares)\n",
    "\n",
    "# delete the dictionary itself\n",
    "del squares\n",
    "print(squares)"
   ]
  },
  {
   "cell_type": "markdown",
   "metadata": {},
   "source": [
    "### Merging dictionaries"
   ]
  },
  {
   "cell_type": "markdown",
   "metadata": {},
   "source": [
    "The **Update() method** is used to merge two dictionaries. \n",
    "This method accepts either another dictionary object or an iterable of key/value pairs. If keyword arguments are specified, the dictionary is then updated with those key/value pairs"
   ]
  },
  {
   "cell_type": "code",
   "execution_count": 13,
   "metadata": {},
   "outputs": [
    {
     "name": "stdout",
     "output_type": "stream",
     "text": [
      "{'bookA': 1, 'bookB': 2, 'bookC': 3, 'bookD': 4, 'bookE': 5}\n",
      "None\n"
     ]
    }
   ],
   "source": [
    "# create two dictionaries\n",
    "dict1 = {'bookA': 1, 'bookB': 2, 'bookC': 3}\n",
    "dict2 = {'bookC': 2, 'bookD': 4, 'bookE': 5}\n",
    "\n",
    "#merge, update dict2 from key/value pairs of dict1\n",
    "dict2.update(dict1)\n",
    "print dict2\n",
    "\n",
    "#below returns 'None' because the update() function does not return a new dictionary\n",
    "print dict2.update(dict1)"
   ]
  },
  {
   "cell_type": "code",
   "execution_count": 12,
   "metadata": {},
   "outputs": [
    {
     "name": "stdout",
     "output_type": "stream",
     "text": [
      "{'bookA': 1, 'bookB': 2, 'bookC': 2, 'bookD': 4, 'bookE': 5}\n"
     ]
    }
   ],
   "source": [
    "dict1 = {'bookA': 1, 'bookB': 2, 'bookC': 3}\n",
    "dict2 = {'bookC': 2, 'bookD': 4, 'bookE': 5}\n",
    "\n",
    "#merge, update dict1 from key/value pairs of dict2\n",
    "dict1.update(dict2)\n",
    "print dict1"
   ]
  },
  {
   "cell_type": "markdown",
   "metadata": {},
   "source": [
    "**Merging Two Dictionaries in a Single Expression**"
   ]
  },
  {
   "cell_type": "code",
   "execution_count": 5,
   "metadata": {},
   "outputs": [
    {
     "name": "stdout",
     "output_type": "stream",
     "text": [
      "{'bookA': 1, 'bookB': 2, 'bookC': 3, 'bookD': 4, 'bookE': 5}\n",
      "{'bookA': 1, 'bookB': 2, 'bookC': 2, 'bookD': 4, 'bookE': 5}\n"
     ]
    }
   ],
   "source": [
    "# create two dictionaries\n",
    "dict1 = {'bookA': 1, 'bookB': 2, 'bookC': 3}\n",
    "dict2 = {'bookC': 2, 'bookD': 4, 'bookE': 5}\n",
    "\n",
    "# merge with a single expression as below,\n",
    "print dict(dict2, **dict1)\n",
    "# dict1 overrides dict2\n",
    "\n",
    "print dict(dict1, **dict2)\n",
    "# dict2 overrides dict1"
   ]
  },
  {
   "cell_type": "markdown",
   "metadata": {},
   "source": [
    "### Python Dictionary Comprehension\n",
    "\n",
    "Dictionary comprehension is an elegant and concise way to create new dictionary from an iterable in Python. It consists of an expression pair (key: value) followed by for statement inside curly braces {}."
   ]
  },
  {
   "cell_type": "code",
   "execution_count": 7,
   "metadata": {},
   "outputs": [
    {
     "name": "stdout",
     "output_type": "stream",
     "text": [
      "{0: 0, 1: 1, 2: 4, 3: 9}\n"
     ]
    }
   ],
   "source": [
    "squares = {x: x*x for x in range(4)}\n",
    "print(squares)"
   ]
  },
  {
   "cell_type": "markdown",
   "metadata": {},
   "source": [
    "A dictionary comprehension can optionally contain more for or if statements.\n",
    "An optional if statement can filter out items to form the new dictionary."
   ]
  },
  {
   "cell_type": "code",
   "execution_count": 9,
   "metadata": {},
   "outputs": [
    {
     "name": "stdout",
     "output_type": "stream",
     "text": [
      "{1: 1, 3: 9, 5: 25}\n"
     ]
    }
   ],
   "source": [
    "odd_squares = {x: x*x for x in range(7) if x%2 == 1}\n",
    "print(odd_squares)"
   ]
  },
  {
   "cell_type": "markdown",
   "metadata": {},
   "source": [
    "**Dictionary Membership Test**\n",
    "We can test if a key is in a dictionary or not using the keyword in. \n",
    "Notice that membership test is for keys only, not for values."
   ]
  },
  {
   "cell_type": "code",
   "execution_count": 11,
   "metadata": {},
   "outputs": [
    {
     "name": "stdout",
     "output_type": "stream",
     "text": [
      "True\n",
      "True\n",
      "False\n"
     ]
    }
   ],
   "source": [
    "squares = {1: 1, 3: 9, 5: 25, 7: 49, 9: 81}\n",
    "print(3 in squares)\n",
    "print(2 not in squares)\n",
    "\n",
    "# membership tests for key only not value, hence outputs 'false'\n",
    "print(49 in squares)"
   ]
  },
  {
   "cell_type": "markdown",
   "metadata": {},
   "source": [
    "**Iterating Through a Dictionary**\n",
    "for loop is used to iterate though each key in a dictionary."
   ]
  },
  {
   "cell_type": "code",
   "execution_count": 12,
   "metadata": {},
   "outputs": [
    {
     "name": "stdout",
     "output_type": "stream",
     "text": [
      "1\n",
      "9\n",
      "81\n",
      "25\n",
      "49\n"
     ]
    }
   ],
   "source": [
    "squares = {1: 1, 3: 9, 5: 25, 7: 49, 9: 81}\n",
    "for i in squares:\n",
    "    print(squares[i])"
   ]
  },
  {
   "cell_type": "markdown",
   "metadata": {},
   "source": [
    "**Loop Keys and values**"
   ]
  },
  {
   "cell_type": "code",
   "execution_count": 19,
   "metadata": {},
   "outputs": [
    {
     "name": "stdout",
     "output_type": "stream",
     "text": [
      "a\n",
      "c\n",
      "b\n",
      "('a', 1)\n",
      "('c', 3)\n",
      "('b', 2)\n"
     ]
    }
   ],
   "source": [
    "# loop all keys\n",
    "loop_dict = {'a': 1, 'b': 2, 'c': 3} \n",
    "for i in loop_dict:\n",
    "    print(i)       #prints only keys\n",
    "    \n",
    "    \n",
    "# loop keys and values\n",
    "\n",
    "loop_dict = {'a': 1, 'b': 2, 'c': 3} \n",
    "for i,j in loop_dict.items():\n",
    "    print(i,j)    #prints key-value pairs"
   ]
  },
  {
   "cell_type": "markdown",
   "metadata": {},
   "source": [
    "**References:**\n",
    "\n",
    "https://www.programiz.com/python-programming/dictionary\n",
    "\n",
    "https://code.tutsplus.com/tutorials/how-to-merge-two-python-dictionaries--cms-26230"
   ]
  },
  {
   "cell_type": "code",
   "execution_count": null,
   "metadata": {},
   "outputs": [],
   "source": []
  }
 ],
 "metadata": {
  "kernelspec": {
   "display_name": "Python 2",
   "language": "python",
   "name": "python2"
  },
  "language_info": {
   "codemirror_mode": {
    "name": "ipython",
    "version": 2
   },
   "file_extension": ".py",
   "mimetype": "text/x-python",
   "name": "python",
   "nbconvert_exporter": "python",
   "pygments_lexer": "ipython2",
   "version": "2.7.15"
  }
 },
 "nbformat": 4,
 "nbformat_minor": 2
}
