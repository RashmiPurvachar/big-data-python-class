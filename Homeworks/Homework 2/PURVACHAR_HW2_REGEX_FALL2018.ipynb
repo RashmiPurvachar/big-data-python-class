{
 "cells": [
  {
   "cell_type": "markdown",
   "metadata": {},
   "source": [
    "# Regular Expressions in Python"
   ]
  },
  {
   "cell_type": "markdown",
   "metadata": {},
   "source": [
    "A regular expression is a special sequence of characters that helps you match or find other strings or sets of strings, using a specialized syntax held in a pattern.\n",
    "\n",
    "A regular expression (or RE) specifies a set of strings that matches it; the functions in this module let you check if a particular string matches a given regular expression.Regular expressions can contain both special and ordinary characters. Most ordinary characters, like 'A', 'a', or '0', are the simplest regular expressions; they simply match themselves.\n",
    "\n",
    "Regular expressions can contain both special and ordinary characters. Most ordinary characters, like 'A', 'a', or '0', are the simplest regular expressions; they simply match themselves."
   ]
  },
  {
   "cell_type": "markdown",
   "metadata": {},
   "source": [
    "The **Match** function attempts to match RE pattern to string with optional flags.\n",
    "\n",
    "**Syntax:**\n",
    "re.match(pattern, string, flags=0) \n",
    "\n",
    "where,\n",
    "pattern - regular expression to be matched.\n",
    "string - string, which would be searched to match the pattern at the beginning of string.\n",
    "flags - different modifiers"
   ]
  },
  {
   "cell_type": "markdown",
   "metadata": {},
   "source": [
    "### Module contents\n",
    "\n",
    "**1. re.compile(pattern, flags=0)**\n",
    "\n",
    "Compile a regular expression pattern into a regular expression object, which can be used for matching using its match() and search() methods\n",
    "\n",
    "**2. re.search(pattern, string, flags=0)**\n",
    "\n",
    "Scan through string looking for the first location where the regular expression pattern produces a match, and return a corresponding match object. \n",
    "Return None if no position in the string matches the pattern; note that this is different from finding a zero-length match at some point in the string.\n",
    "\n",
    "**3. re.match(pattern, string, flags=0)**\n",
    "\n",
    "If zero or more characters at the beginning of string match the regular expression pattern, return a corresponding match object. \n",
    "Return None if the string does not match the pattern; note that this is different from a zero-length match.\n",
    "\n",
    "**4. re.fullmatch(pattern, string, flags=0)**\n",
    "\n",
    "If the whole string matches the regular expression pattern, return a corresponding match object. \n",
    "Return None if the string does not match the pattern; note that this is different from a zero-length match.\n",
    "\n",
    "**5. split(pattern, string, maxsplit=0, flags=0)**\n",
    "\n",
    "Split string by the occurrences of pattern. If capturing parentheses are used in pattern, then the text of all groups in the pattern are also returned as part of the resulting list. \n",
    "If maxsplit is nonzero, at most maxsplit splits occur, and the remainder of the string is returned as the final element of the list."
   ]
  },
  {
   "cell_type": "code",
   "execution_count": 3,
   "metadata": {},
   "outputs": [
    {
     "data": {
      "text/plain": [
       "['Words', 'words', 'words', '']"
      ]
     },
     "execution_count": 3,
     "metadata": {},
     "output_type": "execute_result"
    }
   ],
   "source": [
    "re.split('\\W+', 'Words, words, words.')"
   ]
  },
  {
   "cell_type": "markdown",
   "metadata": {},
   "source": [
    "## Match Objects\n",
    "\n",
    "Match objects always have a boolean value of True. Since match() and search() return None when there is no match, you can test whether there was a match with a simple if statement"
   ]
  },
  {
   "cell_type": "code",
   "execution_count": null,
   "metadata": {},
   "outputs": [],
   "source": [
    "import re\n",
    "match = re.search(pattern, string)\n",
    "if match:\n",
    "    process(match)"
   ]
  },
  {
   "cell_type": "markdown",
   "metadata": {},
   "source": [
    "match.group([group1, ...])\n",
    "\n",
    "-  Returns one or more subgroups of the match.\n",
    "-  If there is a single argument, the result is a single string; \n",
    "-  if there are multiple arguments, the result is a tuple with one item per argument. \n",
    "-  Without arguments, group1 defaults to zero (the whole match is returned)."
   ]
  },
  {
   "cell_type": "code",
   "execution_count": 5,
   "metadata": {},
   "outputs": [
    {
     "data": {
      "text/plain": [
       "('Isaac', 'Newton')"
      ]
     },
     "execution_count": 5,
     "metadata": {},
     "output_type": "execute_result"
    }
   ],
   "source": [
    "m = re.match(r\"(\\w+) (\\w+)\", \"Isaac Newton, physicist\")\n",
    "m.group(0)        # prints, 'Isaac Newton'\n",
    "\n",
    "m.group(1)       # The first parenthesized subgroup. prints, 'Isaac'\n",
    "\n",
    "m.group(2)       # The second parenthesized subgroup. prints, 'Newton'\n",
    "\n",
    "m.group(1, 2)    # Multiple arguments give us a tuple."
   ]
  },
  {
   "cell_type": "code",
   "execution_count": 6,
   "metadata": {},
   "outputs": [
    {
     "data": {
      "text/plain": [
       "'Malcolm'"
      ]
     },
     "execution_count": 6,
     "metadata": {},
     "output_type": "execute_result"
    }
   ],
   "source": [
    "m = re.match(r\"(?P<first_name>\\w+) (?P<last_name>\\w+)\", \"Malcolm Reynolds\")\n",
    "m.group('first_name')\n",
    "#m.group('last_name')"
   ]
  },
  {
   "cell_type": "code",
   "execution_count": 7,
   "metadata": {},
   "outputs": [
    {
     "data": {
      "text/plain": [
       "'Malcolm'"
      ]
     },
     "execution_count": 7,
     "metadata": {},
     "output_type": "execute_result"
    }
   ],
   "source": [
    "#Named groups can also be referred to by their index\n",
    "m = re.match(r\"(?P<first_name>\\w+) (?P<last_name>\\w+)\", \"Malcolm Reynolds\")\n",
    "m.group(1)\n",
    "#m.group(2)"
   ]
  },
  {
   "cell_type": "markdown",
   "metadata": {},
   "source": [
    "### Matching Versus Searching\n",
    "\n",
    "Python offers two different primitive operations based on regular expressions: \n",
    "match checks for a match only at the beginning of the string, while search checks for a match anywhere in the string"
   ]
  },
  {
   "cell_type": "code",
   "execution_count": 8,
   "metadata": {},
   "outputs": [
    {
     "name": "stdout",
     "output_type": "stream",
     "text": [
      "No match!!\n",
      "search --> searchObj.group() :  dogs\n"
     ]
    }
   ],
   "source": [
    "import re\n",
    "\n",
    "line = \"Cats are smarter than dogs\";\n",
    "\n",
    "matchObj = re.match( r'dogs', line, re.M|re.I)\n",
    "if matchObj:\n",
    "   print \"match --> matchObj.group() : \", matchObj.group()\n",
    "else:\n",
    "   print \"No match!!\"\n",
    "\n",
    "searchObj = re.search( r'dogs', line, re.M|re.I)\n",
    "if searchObj:\n",
    "   print \"search --> searchObj.group() : \", searchObj.group()\n",
    "else:\n",
    "   print \"Nothing found!!\""
   ]
  },
  {
   "cell_type": "markdown",
   "metadata": {},
   "source": [
    "### Search and Replace\n",
    "\n",
    "One of the most important re methods that use regular expressions is sub.\n",
    "\n",
    "**Syntax:**\n",
    "re.sub(pattern, repl, string, max=0)\n",
    "\n",
    "This method replaces all occurrences of the RE pattern in string with repl, substituting all occurrences unless max provided. This method returns modified string."
   ]
  },
  {
   "cell_type": "code",
   "execution_count": 9,
   "metadata": {},
   "outputs": [
    {
     "name": "stdout",
     "output_type": "stream",
     "text": [
      "Phone Num :  2004-959-559 \n",
      "Phone Num :  2004959559\n"
     ]
    }
   ],
   "source": [
    "import re\n",
    "\n",
    "phone = \"2004-959-559 # This is Phone Number\"\n",
    "\n",
    "# Delete Python-style comments\n",
    "num = re.sub(r'#.*$', \"\", phone)\n",
    "print \"Phone Num : \", num\n",
    "\n",
    "# Remove anything other than digits\n",
    "num = re.sub(r'\\D', \"\", phone)    \n",
    "print \"Phone Num : \", num"
   ]
  },
  {
   "cell_type": "markdown",
   "metadata": {},
   "source": [
    "**Regular Expression Patterns:**\n",
    "\n",
    "^\n",
    "Matches beginning of line.\n",
    "\t\n",
    "$\n",
    "Matches end of line.\n",
    "\t\n",
    ".\n",
    "Matches any single character except newline. Using m option allows it to match newline as well.\n",
    "\t\n",
    "[...]\n",
    "Matches any single character in brackets.\n",
    "\t\n",
    "[^...]\n",
    "Matches any single character not in brackets\n",
    "\t\n",
    "re*\n",
    "Matches 0 or more occurrences of preceding expression.\n",
    "\t\n",
    "re+\n",
    "Matches 1 or more occurrence of preceding expression.\n",
    "\t\n",
    "re?\n",
    "Matches 0 or 1 occurrence of preceding expression.\n",
    "\t\n",
    "re{ n}\n",
    "Matches exactly n number of occurrences of preceding expression.\n",
    "\t\n",
    "re{ n,}\n",
    "Matches n or more occurrences of preceding expression.\n",
    "\t\n",
    "re{ n, m}\n",
    "Matches at least n and at most m occurrences of preceding expression.\n",
    "\t\n",
    "a| b\n",
    "Matches either a or b.\n",
    "\t\n",
    "(re)\n",
    "Groups regular expressions and remembers matched text.\n",
    "\t\n",
    "(?imx)\n",
    "Temporarily toggles on i, m, or x options within a regular expression. If in parentheses, only that area is affected.\n",
    "\t\n",
    "(?-imx)\n",
    "Temporarily toggles off i, m, or x options within a regular expression. If in parentheses, only that area is affected.\n",
    "\t\n",
    "(?: re)\n",
    "Groups regular expressions without remembering matched text.\n",
    "\t\n",
    "(?imx: re)\n",
    "Temporarily toggles on i, m, or x options within parentheses.\n",
    "\t\n",
    "(?-imx: re)\n",
    "Temporarily toggles off i, m, or x options within parentheses.\n",
    "\t\n",
    "(?#...)\n",
    "Comment.\n",
    "\t\n",
    "(?= re)\n",
    "Specifies position using a pattern. Doesn't have a range.\n",
    "\t\n",
    "(?! re)\n",
    "Specifies position using pattern negation. Doesn't have a range.\n",
    "\t\n",
    "(?> re)\n",
    "Matches independent pattern without backtracking.\n",
    "\t\n",
    "\\w\n",
    "Matches word characters.\n",
    "\t\n",
    "\\W\n",
    "Matches nonword characters.\n",
    "\t\n",
    "\\s\n",
    "Matches whitespace. Equivalent to [\\t\\n\\r\\f].\n",
    "\t\n",
    "\\S\n",
    "Matches nonwhitespace.\n",
    "\t\n",
    "\\d\n",
    "Matches digits. Equivalent to [0-9].\n",
    "\t\n",
    "\\D\n",
    "Matches nondigits.\n",
    "\t\n",
    "\\A\n",
    "Matches beginning of string.\n",
    "\t\n",
    "\\Z\n",
    "Matches end of string. If a newline exists, it matches just before newline.\n",
    "\t\n",
    "\\z\n",
    "Matches end of string.\n",
    "\t\n",
    "\\G\n",
    "Matches point where last match finished.\n",
    "\t\n",
    "\\b\n",
    "Matches word boundaries when outside brackets. Matches backspace (0x08) when inside brackets.\n",
    "\t\n",
    "\\B\n",
    "Matches nonword boundaries.\n",
    "\t\n",
    "\\n, \\t, etc.\n",
    "Matches newlines, carriage returns, tabs, etc.\n",
    "\t\n",
    "\\1...\\9\n",
    "Matches nth grouped subexpression.\n",
    "\t\n",
    "\\10\n",
    "Matches nth grouped subexpression if it matched already. Otherwise refers to the octal representation of a character code.\n",
    "\n"
   ]
  },
  {
   "cell_type": "markdown",
   "metadata": {},
   "source": [
    "**References:**\n",
    "\n",
    "https://docs.python.org/3.4/library/re.html#\n",
    "    \n",
    "https://www.tutorialspoint.com/python/python_reg_expressions.htm"
   ]
  },
  {
   "cell_type": "code",
   "execution_count": null,
   "metadata": {},
   "outputs": [],
   "source": []
  }
 ],
 "metadata": {
  "kernelspec": {
   "display_name": "Python 2",
   "language": "python",
   "name": "python2"
  },
  "language_info": {
   "codemirror_mode": {
    "name": "ipython",
    "version": 2
   },
   "file_extension": ".py",
   "mimetype": "text/x-python",
   "name": "python",
   "nbconvert_exporter": "python",
   "pygments_lexer": "ipython2",
   "version": "2.7.15"
  }
 },
 "nbformat": 4,
 "nbformat_minor": 2
}
