{
 "cells": [
  {
   "cell_type": "markdown",
   "metadata": {},
   "source": [
    "# LISTS vs TUPLES"
   ]
  },
  {
   "cell_type": "markdown",
   "metadata": {},
   "source": [
    "**A list** is a data structure in Python that is a mutable, or changeable, ordered sequence of elements. A Python list acts very much like an array in other languages\n",
    "\n",
    "**A tuple** is a sequence of immutable Python objects. A tuple is an assortment of data, separated by commas, which makes it similar to the Python list, but a tuple is fundamentally different in that a tuple is \"immutable.\" "
   ]
  },
  {
   "cell_type": "markdown",
   "metadata": {},
   "source": [
    "### Difference #1 \n",
    "Creation of Lists and Tuples "
   ]
  },
  {
   "cell_type": "markdown",
   "metadata": {},
   "source": [
    "-  A list is created by placing all the elements inside a **square bracket** [], separated by commas. \n",
    "-  A tuple is created by placing all the items (elements) inside a **parentheses** (), separated by comma."
   ]
  },
  {
   "cell_type": "code",
   "execution_count": 22,
   "metadata": {},
   "outputs": [],
   "source": [
    "# creation of lists\n",
    "\n",
    "# an empty list\n",
    "mylist1 = []\n",
    "\n",
    "# list of integers\n",
    "mylist2 = [1,2,3,4,5,6]\n",
    "\n",
    "# list of different data type\n",
    "mylist3 = [\"python\", 0.3, 45]\n",
    "\n",
    "# Nested list is the one which has a list(s) within a list.\n",
    "my_nested_list = [\"iPhone\", \"iPad\", [3,5,7], \"mac\"]"
   ]
  },
  {
   "cell_type": "code",
   "execution_count": 21,
   "metadata": {},
   "outputs": [],
   "source": [
    "# creation of tuples\n",
    "\n",
    "# an empty tuple\n",
    "mytuple1 = ()\n",
    "\n",
    "# tuple of integers\n",
    "mytuple2 = (1,2,3,4,5,6)\n",
    "\n",
    "# tuple of different data type\n",
    "mytuple3 = (\"python\", 0.3, 45)\n",
    "\n",
    "# Nested tuple is the one which has a tuple(s) within a tuple.\n",
    "my_nested_tuple = (\"iPhone\", \"iPad\", (3,5,7), \"mac\")\n"
   ]
  },
  {
   "cell_type": "markdown",
   "metadata": {},
   "source": [
    "### Similarity #1 \n",
    "Accessing Lists and Tuples: Index operator [] is used to access the elements. Index starts from zero."
   ]
  },
  {
   "cell_type": "code",
   "execution_count": 14,
   "metadata": {},
   "outputs": [
    {
     "name": "stdout",
     "output_type": "stream",
     "text": [
      "2\n"
     ]
    },
    {
     "ename": "IndexError",
     "evalue": "list index out of range",
     "output_type": "error",
     "traceback": [
      "\u001b[0;31m---------------------------------------------------------------------------\u001b[0m",
      "\u001b[0;31mIndexError\u001b[0m                                Traceback (most recent call last)",
      "\u001b[0;32m<ipython-input-14-a833079eb8c2>\u001b[0m in \u001b[0;36m<module>\u001b[0;34m()\u001b[0m\n\u001b[1;32m      5\u001b[0m \u001b[0;34m\u001b[0m\u001b[0m\n\u001b[1;32m      6\u001b[0m \u001b[0;31m# access an element of index which is out of range\u001b[0m\u001b[0;34m\u001b[0m\u001b[0;34m\u001b[0m\u001b[0m\n\u001b[0;32m----> 7\u001b[0;31m \u001b[0;32mprint\u001b[0m\u001b[0;34m(\u001b[0m\u001b[0ma_list\u001b[0m\u001b[0;34m[\u001b[0m\u001b[0;36m6\u001b[0m\u001b[0;34m]\u001b[0m\u001b[0;34m)\u001b[0m\u001b[0;34m\u001b[0m\u001b[0m\n\u001b[0m",
      "\u001b[0;31mIndexError\u001b[0m: list index out of range"
     ]
    }
   ],
   "source": [
    "# accessing lists: \n",
    "\n",
    "a_list = [0,1,2,3,4]\n",
    "print(a_list[2])\n",
    "\n",
    "# access an element of index which is out of range\n",
    "print(a_list[6])"
   ]
  },
  {
   "cell_type": "code",
   "execution_count": 15,
   "metadata": {},
   "outputs": [
    {
     "name": "stdout",
     "output_type": "stream",
     "text": [
      "23\n"
     ]
    }
   ],
   "source": [
    "# accessing nested list\n",
    "n_list = [[100,23,4], \"python\"]\n",
    "print(n_list[0][1])"
   ]
  },
  {
   "cell_type": "code",
   "execution_count": 23,
   "metadata": {},
   "outputs": [
    {
     "name": "stdout",
     "output_type": "stream",
     "text": [
      "2\n"
     ]
    },
    {
     "ename": "IndexError",
     "evalue": "tuple index out of range",
     "output_type": "error",
     "traceback": [
      "\u001b[0;31m---------------------------------------------------------------------------\u001b[0m",
      "\u001b[0;31mIndexError\u001b[0m                                Traceback (most recent call last)",
      "\u001b[0;32m<ipython-input-23-1af890851a1a>\u001b[0m in \u001b[0;36m<module>\u001b[0;34m()\u001b[0m\n\u001b[1;32m      5\u001b[0m \u001b[0;34m\u001b[0m\u001b[0m\n\u001b[1;32m      6\u001b[0m \u001b[0;31m# access an element of index which is out of range\u001b[0m\u001b[0;34m\u001b[0m\u001b[0;34m\u001b[0m\u001b[0m\n\u001b[0;32m----> 7\u001b[0;31m \u001b[0;32mprint\u001b[0m\u001b[0;34m(\u001b[0m\u001b[0ma_tuple\u001b[0m\u001b[0;34m[\u001b[0m\u001b[0;36m6\u001b[0m\u001b[0;34m]\u001b[0m\u001b[0;34m)\u001b[0m\u001b[0;34m\u001b[0m\u001b[0m\n\u001b[0m",
      "\u001b[0;31mIndexError\u001b[0m: tuple index out of range"
     ]
    }
   ],
   "source": [
    "# accessing tuples: \n",
    "\n",
    "a_tuple = (0,1,2,3,4)\n",
    "print(a_tuple[2])\n",
    "\n",
    "# access an element of index which is out of range\n",
    "print(a_tuple[6])"
   ]
  },
  {
   "cell_type": "code",
   "execution_count": 24,
   "metadata": {},
   "outputs": [
    {
     "name": "stdout",
     "output_type": "stream",
     "text": [
      "23\n"
     ]
    }
   ],
   "source": [
    "# accessing nested tuple\n",
    "n_tuple = ((100,23,4), \"python\")\n",
    "print(n_tuple[0][1])"
   ]
  },
  {
   "cell_type": "markdown",
   "metadata": {},
   "source": [
    "### Similarity #2\n",
    "\n",
    "-  Slicing of lists and tuples: accessing a range of items in a list/tuple is done by using the slicing operator (colon)\n",
    "-  Format - list_name[start:end-1], tuple-name[start:end-1]"
   ]
  },
  {
   "cell_type": "code",
   "execution_count": 29,
   "metadata": {},
   "outputs": [
    {
     "name": "stdout",
     "output_type": "stream",
     "text": [
      "['t', 'h', 'o']\n"
     ]
    }
   ],
   "source": [
    "# Slicing a list\n",
    "s_list = ['p','y','t','h','o','n']\n",
    "print(s_list[2:5])\n",
    "\n",
    "# prints the elements from 'index-position-2' to 'index-position-4'. "
   ]
  },
  {
   "cell_type": "code",
   "execution_count": 31,
   "metadata": {},
   "outputs": [
    {
     "name": "stdout",
     "output_type": "stream",
     "text": [
      "('t', 'h', 'o')\n"
     ]
    }
   ],
   "source": [
    "# Slicing a tuple\n",
    "s_tuple = ('p','y','t','h','o','n')\n",
    "print(s_tuple[2:5])\n",
    "\n",
    "# prints the elements from 'index-position-2' to 'index-position-4'. "
   ]
  },
  {
   "cell_type": "markdown",
   "metadata": {},
   "source": [
    "### Difference #2\n",
    "\n",
    "Adding elements\n",
    "\n",
    "-  List: Lists are **mutable**. We can add one item to a list using append() method or add several items using extend() method.\n",
    "-  Tuple: We cannot add more elements to a tuple once declared with values as it is **immutable**.\n",
    "\n",
    "    #### Difference #2.1\n",
    "    \n",
    "    -  As we can add more elements to the list, lists are of **variable length**.\n",
    "    -  As no addition of elements is possible to a tuple once declared, tuples are of **fixed length**."
   ]
  },
  {
   "cell_type": "code",
   "execution_count": 37,
   "metadata": {},
   "outputs": [
    {
     "name": "stdout",
     "output_type": "stream",
     "text": [
      "[1, 2, 3, 4, 5]\n",
      "['p', 'y', 't', 'h', 'o', 'n']\n"
     ]
    }
   ],
   "source": [
    "# adding one element to a list\n",
    "\n",
    "addlist = [1,2,3,4]\n",
    "addlist.append(5)\n",
    "print(addlist)\n",
    "\n",
    "# adding multiple elements to a list\n",
    "\n",
    "add_list  = ['p','y']\n",
    "add_list.extend(['t','h','o','n'])\n",
    "print(add_list)\n"
   ]
  },
  {
   "cell_type": "markdown",
   "metadata": {},
   "source": [
    "### Similarity #3\n",
    "\n",
    "Concatenation: Two lists or tuples can be concatenated using '+' operator.\n"
   ]
  },
  {
   "cell_type": "code",
   "execution_count": 38,
   "metadata": {},
   "outputs": [
    {
     "name": "stdout",
     "output_type": "stream",
     "text": [
      "[1, 2, 3, 4, 5]\n"
     ]
    }
   ],
   "source": [
    "# Lists concatenation\n",
    "\n",
    "list_a = [1,2,3]\n",
    "list_b = [4,5]\n",
    "list_c = list_a + list_b\n",
    "print(list_c)"
   ]
  },
  {
   "cell_type": "code",
   "execution_count": 49,
   "metadata": {},
   "outputs": [
    {
     "name": "stdout",
     "output_type": "stream",
     "text": [
      "(1, 2, 3, 4, 5)\n"
     ]
    }
   ],
   "source": [
    "# Tuples concatenation\n",
    "\n",
    "tuple_a = (1,2,3)\n",
    "tuple_b = (4,5)\n",
    "tuple_c = tuple_a + tuple_b\n",
    "print(tuple_c)"
   ]
  },
  {
   "cell_type": "markdown",
   "metadata": {},
   "source": [
    "### Similarity #4\n",
    "\n",
    "Elements in a list or tuple can be repeated for a given number of times by using '*' operator"
   ]
  },
  {
   "cell_type": "code",
   "execution_count": 52,
   "metadata": {},
   "outputs": [
    {
     "name": "stdout",
     "output_type": "stream",
     "text": [
      "['repeat_list', 'repeat_list']\n",
      "repeat_tuple repeat_tuple repeat_tuple \n"
     ]
    }
   ],
   "source": [
    "# Element repetation in a list\n",
    "\n",
    "print([\"repeat_list\"] * 2)\n",
    "\n",
    "print((\"repeat_tuple \") * 3)"
   ]
  },
  {
   "cell_type": "markdown",
   "metadata": {},
   "source": [
    "### Difference #3\n",
    "\n",
    "Changing elements\n",
    "\n",
    "-  List: An assignment operator (=) is used to change an item or a range of items \n",
    "-  Tuple: Elements of a tuple cannot be changed once it has been assigned. But, if the element is itself a mutable datatype like list, its nested items can be changed."
   ]
  },
  {
   "cell_type": "code",
   "execution_count": 41,
   "metadata": {},
   "outputs": [
    {
     "name": "stdout",
     "output_type": "stream",
     "text": [
      "[2, 4, 6, 8]\n",
      "[1, 4, 6, 8]\n",
      "[1, 3, 5, 7]\n"
     ]
    }
   ],
   "source": [
    "# Changing elements in a list\n",
    "\n",
    "odd = [2, 4, 6, 8]\n",
    "print(odd)\n",
    "\n",
    "# change the 1st item    \n",
    "odd[0] = 1            \n",
    "print(odd)\n",
    "\n",
    "# change 2nd to 4th items\n",
    "odd[1:4] = [3, 5, 7]  \n",
    "print(odd) "
   ]
  },
  {
   "cell_type": "code",
   "execution_count": 46,
   "metadata": {},
   "outputs": [
    {
     "name": "stdout",
     "output_type": "stream",
     "text": [
      "(2, 4, 6, [8, 5])\n",
      "(2, 4, 6, [3, 5])\n"
     ]
    },
    {
     "ename": "TypeError",
     "evalue": "'tuple' object does not support item assignment",
     "output_type": "error",
     "traceback": [
      "\u001b[0;31m---------------------------------------------------------------------------\u001b[0m",
      "\u001b[0;31mTypeError\u001b[0m                                 Traceback (most recent call last)",
      "\u001b[0;32m<ipython-input-46-1e29bfc2fdba>\u001b[0m in \u001b[0;36m<module>\u001b[0;34m()\u001b[0m\n\u001b[1;32m      9\u001b[0m \u001b[0;34m\u001b[0m\u001b[0m\n\u001b[1;32m     10\u001b[0m \u001b[0;31m# but, elements of immutable datatype like a tuple cannot be changed and hence the error\u001b[0m\u001b[0;34m\u001b[0m\u001b[0;34m\u001b[0m\u001b[0m\n\u001b[0;32m---> 11\u001b[0;31m \u001b[0mchange_tuple\u001b[0m\u001b[0;34m[\u001b[0m\u001b[0;36m1\u001b[0m\u001b[0;34m]\u001b[0m \u001b[0;34m=\u001b[0m \u001b[0;36m3\u001b[0m\u001b[0;34m\u001b[0m\u001b[0m\n\u001b[0m",
      "\u001b[0;31mTypeError\u001b[0m: 'tuple' object does not support item assignment"
     ]
    }
   ],
   "source": [
    "# Changing elements in a tuple\n",
    "\n",
    "change_tuple = (2, 4, 6, [8, 5])\n",
    "print(change_tuple)\n",
    "\n",
    "# mutable datatype i.e list's elements can be changed\n",
    "change_tuple[3][0] = 3\n",
    "print(change_tuple)\n",
    "\n",
    "# but, elements of immutable datatype like a tuple cannot be changed and hence the error\n",
    "change_tuple[1] = 3"
   ]
  },
  {
   "cell_type": "code",
   "execution_count": 50,
   "metadata": {},
   "outputs": [
    {
     "name": "stdout",
     "output_type": "stream",
     "text": [
      "(1, 2, 3)\n",
      "Reassigned value\n"
     ]
    }
   ],
   "source": [
    "# However, Tuples can be reassigned\n",
    "\n",
    "reassign_tuple = (1,2,3)\n",
    "print(reassign_tuple)\n",
    "reassign_tuple = (\"Reassigned value\")\n",
    "print(reassign_tuple)"
   ]
  },
  {
   "cell_type": "markdown",
   "metadata": {},
   "source": [
    "### Difference #4\n",
    "\n",
    "Deleting elements\n",
    "\n",
    "-  One or more items from a list can be deleted using the keyword del. It can even delete the list entirely.\n",
    "-  Elements from a tuple cannot be deleted or removed deleting a tuple entirely is possible using the keyword 'del'\n"
   ]
  },
  {
   "cell_type": "code",
   "execution_count": 62,
   "metadata": {},
   "outputs": [
    {
     "name": "stdout",
     "output_type": "stream",
     "text": [
      "['j', 'u', 'p', 'y', 't', 'e', 'r']\n",
      "['u', 'p', 'y', 't', 'e', 'r']\n",
      "['r']\n"
     ]
    },
    {
     "ename": "NameError",
     "evalue": "name 'mylist' is not defined",
     "output_type": "error",
     "traceback": [
      "\u001b[0;31m---------------------------------------------------------------------------\u001b[0m",
      "\u001b[0;31mNameError\u001b[0m                                 Traceback (most recent call last)",
      "\u001b[0;32m<ipython-input-62-866069c2575b>\u001b[0m in \u001b[0;36m<module>\u001b[0;34m()\u001b[0m\n\u001b[1;32m     14\u001b[0m \u001b[0;31m# delete entire list and print\u001b[0m\u001b[0;34m\u001b[0m\u001b[0;34m\u001b[0m\u001b[0m\n\u001b[1;32m     15\u001b[0m \u001b[0;32mdel\u001b[0m \u001b[0mmylist\u001b[0m\u001b[0;34m\u001b[0m\u001b[0m\n\u001b[0;32m---> 16\u001b[0;31m \u001b[0;32mprint\u001b[0m\u001b[0;34m(\u001b[0m\u001b[0mmylist\u001b[0m\u001b[0;34m)\u001b[0m\u001b[0;34m\u001b[0m\u001b[0m\n\u001b[0m",
      "\u001b[0;31mNameError\u001b[0m: name 'mylist' is not defined"
     ]
    }
   ],
   "source": [
    "# deleting elements from the list\n",
    "\n",
    "mylist = ['j','u','p','y','t','e','r']\n",
    "print(mylist)\n",
    "\n",
    "# delete one item\n",
    "del mylist[0]  \n",
    "print(mylist)\n",
    "\n",
    "# delete multiple items\n",
    "del mylist[0:5]  \n",
    "print(mylist)\n",
    "\n",
    "# delete entire list and print\n",
    "del mylist       \n",
    "print(mylist)"
   ]
  },
  {
   "cell_type": "code",
   "execution_count": 55,
   "metadata": {},
   "outputs": [
    {
     "name": "stdout",
     "output_type": "stream",
     "text": [
      "('a', 'b', 1997, 2000)\n",
      "After deleting mytup : \n"
     ]
    },
    {
     "ename": "NameError",
     "evalue": "name 'mytup' is not defined",
     "output_type": "error",
     "traceback": [
      "\u001b[0;31m---------------------------------------------------------------------------\u001b[0m",
      "\u001b[0;31mNameError\u001b[0m                                 Traceback (most recent call last)",
      "\u001b[0;32m<ipython-input-55-aec17b39eb9b>\u001b[0m in \u001b[0;36m<module>\u001b[0;34m()\u001b[0m\n\u001b[1;32m      4\u001b[0m \u001b[0;32mdel\u001b[0m \u001b[0mmytup\u001b[0m\u001b[0;34m;\u001b[0m\u001b[0;34m\u001b[0m\u001b[0m\n\u001b[1;32m      5\u001b[0m \u001b[0;32mprint\u001b[0m \u001b[0;34m\"After deleting mytup : \"\u001b[0m\u001b[0;34m;\u001b[0m\u001b[0;34m\u001b[0m\u001b[0m\n\u001b[0;32m----> 6\u001b[0;31m \u001b[0;32mprint\u001b[0m \u001b[0mmytup\u001b[0m\u001b[0;34m;\u001b[0m\u001b[0;34m\u001b[0m\u001b[0m\n\u001b[0m\u001b[1;32m      7\u001b[0m \u001b[0;34m\u001b[0m\u001b[0m\n\u001b[1;32m      8\u001b[0m \u001b[0;31m# deleting an element from a tuple, throws error\u001b[0m\u001b[0;34m\u001b[0m\u001b[0;34m\u001b[0m\u001b[0m\n",
      "\u001b[0;31mNameError\u001b[0m: name 'mytup' is not defined"
     ]
    }
   ],
   "source": [
    "# deleting a tuple entirely\n",
    "\n",
    "mytup = ('a', 'b', 1997, 2000);\n",
    "print mytup;\n",
    "del mytup;\n",
    "print \"After deleting mytup : \";\n",
    "print mytup;"
   ]
  },
  {
   "cell_type": "code",
   "execution_count": 56,
   "metadata": {},
   "outputs": [
    {
     "ename": "TypeError",
     "evalue": "'tuple' object doesn't support item deletion",
     "output_type": "error",
     "traceback": [
      "\u001b[0;31m---------------------------------------------------------------------------\u001b[0m",
      "\u001b[0;31mTypeError\u001b[0m                                 Traceback (most recent call last)",
      "\u001b[0;32m<ipython-input-56-ce7b0efab260>\u001b[0m in \u001b[0;36m<module>\u001b[0;34m()\u001b[0m\n\u001b[1;32m      2\u001b[0m \u001b[0;34m\u001b[0m\u001b[0m\n\u001b[1;32m      3\u001b[0m \u001b[0mdel_tuple\u001b[0m \u001b[0;34m=\u001b[0m \u001b[0;34m(\u001b[0m\u001b[0;34m'j'\u001b[0m\u001b[0;34m,\u001b[0m\u001b[0;34m'u'\u001b[0m\u001b[0;34m,\u001b[0m\u001b[0;34m'p'\u001b[0m\u001b[0;34m,\u001b[0m\u001b[0;34m'y'\u001b[0m\u001b[0;34m,\u001b[0m\u001b[0;34m't'\u001b[0m\u001b[0;34m,\u001b[0m\u001b[0;34m'e'\u001b[0m\u001b[0;34m,\u001b[0m\u001b[0;34m'r'\u001b[0m\u001b[0;34m)\u001b[0m\u001b[0;34m\u001b[0m\u001b[0m\n\u001b[0;32m----> 4\u001b[0;31m \u001b[0;32mdel\u001b[0m \u001b[0mdel_tuple\u001b[0m\u001b[0;34m[\u001b[0m\u001b[0;36m3\u001b[0m\u001b[0;34m]\u001b[0m\u001b[0;34m\u001b[0m\u001b[0m\n\u001b[0m",
      "\u001b[0;31mTypeError\u001b[0m: 'tuple' object doesn't support item deletion"
     ]
    }
   ],
   "source": [
    "# deleting an element from a tuple, throws error\n",
    "\n",
    "del_tuple = ('j','u','p','y','t','e','r')\n",
    "del del_tuple[3]"
   ]
  },
  {
   "cell_type": "markdown",
   "metadata": {},
   "source": [
    "### Difference #5\n",
    "\n",
    "Functions : More functions are associated with a List than a Tuple. \n",
    "In built function dir([object]) is used to get all the associated functions for list and tuple."
   ]
  },
  {
   "cell_type": "code",
   "execution_count": 28,
   "metadata": {},
   "outputs": [
    {
     "data": {
      "text/plain": [
       "['__add__',\n",
       " '__class__',\n",
       " '__contains__',\n",
       " '__delattr__',\n",
       " '__doc__',\n",
       " '__eq__',\n",
       " '__format__',\n",
       " '__ge__',\n",
       " '__getattribute__',\n",
       " '__getitem__',\n",
       " '__getnewargs__',\n",
       " '__getslice__',\n",
       " '__gt__',\n",
       " '__hash__',\n",
       " '__init__',\n",
       " '__iter__',\n",
       " '__le__',\n",
       " '__len__',\n",
       " '__lt__',\n",
       " '__mul__',\n",
       " '__ne__',\n",
       " '__new__',\n",
       " '__reduce__',\n",
       " '__reduce_ex__',\n",
       " '__repr__',\n",
       " '__rmul__',\n",
       " '__setattr__',\n",
       " '__sizeof__',\n",
       " '__str__',\n",
       " '__subclasshook__',\n",
       " 'count',\n",
       " 'index']"
      ]
     },
     "execution_count": 28,
     "metadata": {},
     "output_type": "execute_result"
    }
   ],
   "source": [
    "# functions associated with a Tuple\n",
    "\n",
    "new_tuple = (1, 2, 3)\n",
    "dir(new_tuple)"
   ]
  },
  {
   "cell_type": "code",
   "execution_count": 29,
   "metadata": {},
   "outputs": [
    {
     "data": {
      "text/plain": [
       "['__add__',\n",
       " '__class__',\n",
       " '__contains__',\n",
       " '__delattr__',\n",
       " '__delitem__',\n",
       " '__delslice__',\n",
       " '__doc__',\n",
       " '__eq__',\n",
       " '__format__',\n",
       " '__ge__',\n",
       " '__getattribute__',\n",
       " '__getitem__',\n",
       " '__getslice__',\n",
       " '__gt__',\n",
       " '__hash__',\n",
       " '__iadd__',\n",
       " '__imul__',\n",
       " '__init__',\n",
       " '__iter__',\n",
       " '__le__',\n",
       " '__len__',\n",
       " '__lt__',\n",
       " '__mul__',\n",
       " '__ne__',\n",
       " '__new__',\n",
       " '__reduce__',\n",
       " '__reduce_ex__',\n",
       " '__repr__',\n",
       " '__reversed__',\n",
       " '__rmul__',\n",
       " '__setattr__',\n",
       " '__setitem__',\n",
       " '__setslice__',\n",
       " '__sizeof__',\n",
       " '__str__',\n",
       " '__subclasshook__',\n",
       " 'append',\n",
       " 'count',\n",
       " 'extend',\n",
       " 'index',\n",
       " 'insert',\n",
       " 'pop',\n",
       " 'remove',\n",
       " 'reverse',\n",
       " 'sort']"
      ]
     },
     "execution_count": 29,
     "metadata": {},
     "output_type": "execute_result"
    }
   ],
   "source": [
    "# functions associated with a List\n",
    "\n",
    "new_list = [1, 2, 3]\n",
    "dir(new_list)"
   ]
  },
  {
   "cell_type": "markdown",
   "metadata": {},
   "source": [
    "## List Comprehensions\n",
    "\n",
    "### Conditional statements : for, in, if\n",
    "\n",
    "List comprehensions offer a succinct way to create lists based on existing lists. When using list comprehensions, lists can be built by leveraging any iterable, including strings and tuples."
   ]
  },
  {
   "cell_type": "code",
   "execution_count": 69,
   "metadata": {},
   "outputs": [],
   "source": [
    "# In Python, list comprehensions are constructed like so,\n",
    "\n",
    "color_tuple = ('red', 'blue', 'green')\n",
    "\n",
    "color_tuple = [color for color in color_tuple]\n",
    "\n",
    "# Additional variables that stand for items within the color_tuple are constructed around a for clause. \n",
    "# The in keyword is used as it is in for loops, to iterate over the color_tuple."
   ]
  },
  {
   "cell_type": "code",
   "execution_count": 71,
   "metadata": {},
   "outputs": [
    {
     "name": "stdout",
     "output_type": "stream",
     "text": [
      "['red', 'blue']\n"
     ]
    }
   ],
   "source": [
    "# The list comprehension uses the tuple color_tuple as the basis for the new list called color_list. \n",
    "# The 'if' statement is added along with 'for' and 'in' results in only those items that are not \n",
    "#equivalent to the string 'green' . \n",
    "\n",
    "color_tuple = ('red', 'blue', 'green')\n",
    "\n",
    "color_list = [color for color in color_tuple if color != 'green']\n",
    "print(color_list)"
   ]
  },
  {
   "cell_type": "markdown",
   "metadata": {},
   "source": [
    "### Tuple Iteration\n",
    "\n",
    "A tuple can be iterated through each item using a \"for\" loop"
   ]
  },
  {
   "cell_type": "code",
   "execution_count": 3,
   "metadata": {},
   "outputs": [
    {
     "name": "stdout",
     "output_type": "stream",
     "text": [
      "('red', 'apple')\n",
      "('green', 'apple')\n"
     ]
    }
   ],
   "source": [
    "# tuple iteration\n",
    "for color in ('red','green'):\n",
    "     print(color, \"apple\")"
   ]
  },
  {
   "cell_type": "markdown",
   "metadata": {},
   "source": [
    "### Conditional statements in a Tuple"
   ]
  },
  {
   "cell_type": "code",
   "execution_count": null,
   "metadata": {},
   "outputs": [],
   "source": [
    "# if statement which shows if color red is in the list or not\n",
    "color_tuple = (\"red\",\"green\",\"blue\")\n",
    "if \"red\" in color_tuple:\n",
    "    print(\"Red is in Color_tuple\")\n",
    "else:\n",
    "    print(\"Red is not in Color_tuple\")"
   ]
  },
  {
   "cell_type": "markdown",
   "metadata": {},
   "source": [
    "### Lambda function in a list"
   ]
  },
  {
   "cell_type": "code",
   "execution_count": 8,
   "metadata": {},
   "outputs": [
    {
     "data": {
      "text/plain": [
       "[2, 4, 6, 8]"
      ]
     },
     "execution_count": 8,
     "metadata": {},
     "output_type": "execute_result"
    }
   ],
   "source": [
    "# Lambda function to give the double of an element in a list\n",
    "number_tup = [1,2,3,4]\n",
    "double_tup = map(lambda x: x*2, number_tup)\n",
    "double_tup"
   ]
  },
  {
   "cell_type": "markdown",
   "metadata": {},
   "source": [
    "### Lambda function in a tuple"
   ]
  },
  {
   "cell_type": "code",
   "execution_count": 9,
   "metadata": {},
   "outputs": [
    {
     "name": "stdout",
     "output_type": "stream",
     "text": [
      "[2, 4, 6, 8]\n",
      "<type 'tuple'>\n",
      "<type 'list'>\n"
     ]
    }
   ],
   "source": [
    "# Lambda function to give the double of an element in a Tuple\n",
    "number_tup = (1,2,3,4)\n",
    "double_tup = map(lambda x: x*2, number_tup)\n",
    "print(double_tup)\n",
    "print(type(number_tup))\n",
    "print(type(double_tup))"
   ]
  },
  {
   "cell_type": "markdown",
   "metadata": {},
   "source": [
    "## Mutability vs Immutability"
   ]
  },
  {
   "cell_type": "markdown",
   "metadata": {},
   "source": [
    "A tuple is a list which one can not edit once it is created in Python code. The tuple is an immutable data structure.\n",
    "Whereas List is the mutable entity. You can alter list data anytime in your program.\n",
    "\n",
    "It is easy to demonstrate the mutability difference between tuple and list in Python with an example."
   ]
  },
  {
   "cell_type": "code",
   "execution_count": 27,
   "metadata": {},
   "outputs": [
    {
     "name": "stdout",
     "output_type": "stream",
     "text": [
      "('mon', 'tue', 'wed')\n"
     ]
    },
    {
     "ename": "TypeError",
     "evalue": "'tuple' object does not support item assignment",
     "output_type": "error",
     "traceback": [
      "\u001b[0;31m---------------------------------------------------------------------------\u001b[0m",
      "\u001b[0;31mTypeError\u001b[0m                                 Traceback (most recent call last)",
      "\u001b[0;32m<ipython-input-27-9afafbfeda34>\u001b[0m in \u001b[0;36m<module>\u001b[0;34m()\u001b[0m\n\u001b[1;32m      3\u001b[0m \u001b[0;32mprint\u001b[0m \u001b[0mtupWeekDays\u001b[0m\u001b[0;34m\u001b[0m\u001b[0m\n\u001b[1;32m      4\u001b[0m \u001b[0;34m\u001b[0m\u001b[0m\n\u001b[0;32m----> 5\u001b[0;31m \u001b[0mtupWeekDays\u001b[0m\u001b[0;34m[\u001b[0m\u001b[0;36m2\u001b[0m\u001b[0;34m]\u001b[0m\u001b[0;34m=\u001b[0m\u001b[0;34m'fri'\u001b[0m\u001b[0;34m\u001b[0m\u001b[0m\n\u001b[0m",
      "\u001b[0;31mTypeError\u001b[0m: 'tuple' object does not support item assignment"
     ]
    }
   ],
   "source": [
    "## tuple\n",
    "tupWeekDays = ('mon', 'tue', 'wed')\n",
    "print tupWeekDays\n",
    "\n",
    "tupWeekDays[2]='fri'"
   ]
  },
  {
   "cell_type": "code",
   "execution_count": 25,
   "metadata": {},
   "outputs": [
    {
     "name": "stdout",
     "output_type": "stream",
     "text": [
      "['mon', 'tue', 'wed']\n",
      "['mon', 'tue', 'fri']\n"
     ]
    }
   ],
   "source": [
    "listWeekDays = ['mon', 'tue', 'wed']\n",
    "print listWeekDays\n",
    "\n",
    "listWeekDays[2] = 'fri'\n",
    "print listWeekDays"
   ]
  },
  {
   "cell_type": "markdown",
   "metadata": {},
   "source": [
    "## Advantages of tuples over lists"
   ]
  },
  {
   "cell_type": "markdown",
   "metadata": {},
   "source": [
    "### Difference #6\n",
    "\n",
    "**Tuples are faster than lists** \n",
    "-  If you’re defining a constant set of values, use a tuple instead of a list if iteration is the main purpose.\n",
    "-  The performance difference can be measured using the **timeit library** which allows you to time your Python code. "
   ]
  },
  {
   "cell_type": "code",
   "execution_count": 32,
   "metadata": {},
   "outputs": [
    {
     "name": "stdout",
     "output_type": "stream",
     "text": [
      "0.11214184761\n",
      "0.325188159943\n"
     ]
    }
   ],
   "source": [
    "# The code below runs the code for each approach 1 million times and outputs the overall time it took in seconds.\n",
    "\n",
    "import timeit\n",
    "print(timeit.timeit('x=(1,2,3,4,5)', number=1000000))\n",
    "print(timeit.timeit('x=[1,2,3,4,5]', number=1000000))"
   ]
  },
  {
   "cell_type": "markdown",
   "metadata": {},
   "source": [
    "### Difference #7\n",
    "\n",
    "**Some tuples can be used as dictionary keys** \n",
    "-  Tuples that specifically contain immutable values like strings, numbers, and other tuples can be used as dictionary keys. \n",
    "-  Lists can never be used as dictionary keys, because lists are not immutable "
   ]
  },
  {
   "cell_type": "code",
   "execution_count": 33,
   "metadata": {},
   "outputs": [
    {
     "name": "stdout",
     "output_type": "stream",
     "text": [
      "{('is', 'a'): 12, ('This', 'is'): 23, ('a', 'sentence'): 2}\n"
     ]
    }
   ],
   "source": [
    "# Tuples as dictionary keys\n",
    "\n",
    "tupleDict = {('This', 'is'): 23,\n",
    "                ('is', 'a'): 12,\n",
    "                    ('a', 'sentence'): 2}\n",
    "print(tupleDict)"
   ]
  },
  {
   "cell_type": "code",
   "execution_count": 36,
   "metadata": {},
   "outputs": [
    {
     "ename": "TypeError",
     "evalue": "unhashable type: 'list'",
     "output_type": "error",
     "traceback": [
      "\u001b[0;31m---------------------------------------------------------------------------\u001b[0m",
      "\u001b[0;31mTypeError\u001b[0m                                 Traceback (most recent call last)",
      "\u001b[0;32m<ipython-input-36-d492bf9b0631>\u001b[0m in \u001b[0;36m<module>\u001b[0;34m()\u001b[0m\n\u001b[1;32m      1\u001b[0m \u001b[0;31m# Lists as dictionary keys\u001b[0m\u001b[0;34m\u001b[0m\u001b[0;34m\u001b[0m\u001b[0m\n\u001b[1;32m      2\u001b[0m \u001b[0;34m\u001b[0m\u001b[0m\n\u001b[0;32m----> 3\u001b[0;31m listDict = {['This', 'is']: 23,\n\u001b[0m\u001b[1;32m      4\u001b[0m                 \u001b[0;34m[\u001b[0m\u001b[0;34m'is'\u001b[0m\u001b[0;34m,\u001b[0m \u001b[0;34m'a'\u001b[0m\u001b[0;34m]\u001b[0m\u001b[0;34m:\u001b[0m \u001b[0;36m12\u001b[0m\u001b[0;34m,\u001b[0m\u001b[0;34m\u001b[0m\u001b[0m\n\u001b[1;32m      5\u001b[0m                     ['a', 'sentence']: 2}\n",
      "\u001b[0;31mTypeError\u001b[0m: unhashable type: 'list'"
     ]
    }
   ],
   "source": [
    "# Lists as dictionary keys\n",
    "\n",
    "listDict = {['This', 'is']: 23,\n",
    "                ['is', 'a']: 12,\n",
    "                    ['a', 'sentence']: 2}\n",
    "print(listDict)"
   ]
  },
  {
   "cell_type": "markdown",
   "metadata": {},
   "source": [
    "### Difference #8\n",
    "\n",
    "**Tuples can be used as values in sets whereas lists can not**"
   ]
  },
  {
   "cell_type": "code",
   "execution_count": 35,
   "metadata": {},
   "outputs": [
    {
     "name": "stdout",
     "output_type": "stream",
     "text": [
      "set([('is', 'a'), ('This', 'is'), ('a', 'sentence')])\n"
     ]
    }
   ],
   "source": [
    "# Tuples and sets\n",
    "\n",
    "tupleSet = {('This', 'is'),\n",
    "                ('is', 'a'),\n",
    "                    ('a', 'sentence')}\n",
    "print(tupleSet)"
   ]
  },
  {
   "cell_type": "code",
   "execution_count": 37,
   "metadata": {},
   "outputs": [
    {
     "ename": "TypeError",
     "evalue": "unhashable type: 'list'",
     "output_type": "error",
     "traceback": [
      "\u001b[0;31m---------------------------------------------------------------------------\u001b[0m",
      "\u001b[0;31mTypeError\u001b[0m                                 Traceback (most recent call last)",
      "\u001b[0;32m<ipython-input-37-5c4277b9b8c2>\u001b[0m in \u001b[0;36m<module>\u001b[0;34m()\u001b[0m\n\u001b[1;32m      3\u001b[0m listSet = {['This', 'is'],\n\u001b[1;32m      4\u001b[0m                 \u001b[0;34m[\u001b[0m\u001b[0;34m'is'\u001b[0m\u001b[0;34m,\u001b[0m \u001b[0;34m'a'\u001b[0m\u001b[0;34m]\u001b[0m\u001b[0;34m,\u001b[0m\u001b[0;34m\u001b[0m\u001b[0m\n\u001b[0;32m----> 5\u001b[0;31m                     ['a', 'sentence']}\n\u001b[0m\u001b[1;32m      6\u001b[0m \u001b[0;32mprint\u001b[0m\u001b[0;34m(\u001b[0m\u001b[0mlistSet\u001b[0m\u001b[0;34m)\u001b[0m\u001b[0;34m\u001b[0m\u001b[0m\n",
      "\u001b[0;31mTypeError\u001b[0m: unhashable type: 'list'"
     ]
    }
   ],
   "source": [
    "# Lists as dictionary keys\n",
    "\n",
    "listSet = {['This', 'is'],\n",
    "                ['is', 'a'],\n",
    "                    ['a', 'sentence']}\n",
    "print(listSet)"
   ]
  },
  {
   "cell_type": "markdown",
   "metadata": {},
   "source": [
    "### References:\n",
    "\n",
    "-  https://pythonprogramming.net/python-lists-vs-tuples/\n",
    "-  https://www.programiz.com/python-programming/\n",
    "-  https://www.tutorialspoint.com/python/python_dictionary.htm"
   ]
  }
 ],
 "metadata": {
  "kernelspec": {
   "display_name": "Python 2",
   "language": "python",
   "name": "python2"
  },
  "language_info": {
   "codemirror_mode": {
    "name": "ipython",
    "version": 2
   },
   "file_extension": ".py",
   "mimetype": "text/x-python",
   "name": "python",
   "nbconvert_exporter": "python",
   "pygments_lexer": "ipython2",
   "version": "2.7.15"
  }
 },
 "nbformat": 4,
 "nbformat_minor": 2
}
