{
 "cells": [
  {
   "cell_type": "markdown",
   "metadata": {},
   "source": [
    "## Homework 5.1\n",
    " A bigram is the combination of words.  Find the 10 most common bigrams from the text.  Order counts in the bigram combination for example \"in the\" is not the same bigram as \"the in\"\n",
    "\n"
   ]
  },
  {
   "cell_type": "markdown",
   "metadata": {},
   "source": [
    "**Bigrams using NLTK**"
   ]
  },
  {
   "cell_type": "code",
   "execution_count": 34,
   "metadata": {},
   "outputs": [
    {
     "name": "stdout",
     "output_type": "stream",
     "text": [
      "Total Number of Bigrams:\n",
      "23675\n",
      "Top 10 Bigrams\n"
     ]
    },
    {
     "data": {
      "text/plain": [
       "[(('said', 'the'), 203),\n",
       " (('of', 'the'), 122),\n",
       " (('said', 'Alice'), 110),\n",
       " (('in', 'a'), 93),\n",
       " (('and', 'the'), 71),\n",
       " (('in', 'the'), 71),\n",
       " (('to', 'the'), 65),\n",
       " (('at', 'the'), 57),\n",
       " (('it', 'was'), 56),\n",
       " (('as', 'she'), 54)]"
      ]
     },
     "execution_count": 34,
     "metadata": {},
     "output_type": "execute_result"
    }
   ],
   "source": [
    "import nltk\n",
    "from nltk import word_tokenize\n",
    "from nltk.util import ngrams\n",
    "from collections import Counter\n",
    "import itertools\n",
    "from functools import reduce\n",
    "import re\n",
    "\n",
    " \n",
    "fname = 'data/canterbury/alice29.txt'\n",
    "with open(fname) as f:\n",
    "    content = f.readlines()\n",
    "\n",
    "    \n",
    "#the readlines is to read into an array of 1 element. So content[0] returns the first element which is our text \n",
    "content = content[0]\n",
    "all_bigrams = []\n",
    "Total_num_of_bigrams = 0\n",
    "\n",
    "for line in content.split(\"\\r\"):\n",
    "    #Strip all special characters except alphanumeric and space\n",
    "    line = re.sub (r'([^a-zA-Z0-9 ]+?)', '', line)\n",
    "    \n",
    "    tokens = nltk.word_tokenize(line)    \n",
    "    bigrams = ngrams(tokens,2)\n",
    "    all_bigrams.append(list(bigrams))   \n",
    "\n",
    "# Convert nested array into a flattened 1-dimensional array\n",
    "flat_list_bigrams = [item for sublist in all_bigrams for item in sublist]\n",
    "\n",
    "# total number of bigrams\n",
    "Total_num_of_bigrams = len(flat_list_bigrams)\n",
    "print(\"Total Number of Bigrams:\")\n",
    "print(Total_num_of_bigrams)\n",
    "\n",
    "# To pull out the count of each bigram \n",
    "top_list_bigrams = Counter(flat_list_bigrams)\n",
    "\n",
    "print \"Top 10 Bigrams\"\n",
    "\n",
    "# To print the top 10 most common bigrams\n",
    "top_list_bigrams.most_common(10) \n"
   ]
  },
  {
   "cell_type": "markdown",
   "metadata": {},
   "source": [
    "**References:**\n",
    "\n",
    "    https://stackoverflow.com/questions/32441605/generating-ngrams-unigrams-bigrams-etc-from-a-large-corpus-of-txt-files-and-t/32442106\n",
    "    "
   ]
  },
  {
   "cell_type": "markdown",
   "metadata": {},
   "source": [
    "**Bigrams using Mrjob, Map-Combine-Reduce**"
   ]
  },
  {
   "cell_type": "code",
   "execution_count": 8,
   "metadata": {},
   "outputs": [
    {
     "name": "stdout",
     "output_type": "stream",
     "text": [
      "Overwriting code/HW5bigram1.py\n"
     ]
    }
   ],
   "source": [
    "%%writefile code/HW5bigram1.py\n",
    "import mrjob\n",
    "from mrjob.job import MRJob\n",
    "from mrjob.step import MRStep\n",
    "import re\n",
    "from itertools import islice, izip\n",
    "import itertools\n",
    "import heapq\n",
    "\n",
    "f = re.compile(r'[a-zA-Z]+')\n",
    "TOP10 = 10\n",
    "\n",
    "class BigramCount(MRJob): \n",
    "    def mapFun(self, _, line):\n",
    "        words = f.findall(line)\n",
    "        for i in izip(words, islice(words, 1, None)):\n",
    "            bigram =(i[0]+\" \" +i[1])\n",
    "            yield bigram, 1 \n",
    "    def combineFun(self, bigram, counts):\n",
    "        yield bigram, sum(counts) \n",
    "    def reduceFun(self, bigram, counts):\n",
    "        yield bigram,sum(counts) \n",
    "    def top10_mapper(self, bigram, counts):\n",
    "        yield \"Top \" + str(TOP10), (counts, bigram) \n",
    "    def top10_reducer(self, _, countsAndBigrams):\n",
    "        for countsAndbigrams in heapq.nlargest(TOP10, countsAndBigrams):\n",
    "            global TOP10\n",
    "            output = (TOP10, countsAndbigrams)\n",
    "            TOP10 = TOP10 - 1    \n",
    "            yield output\n",
    "            \n",
    "\n",
    "    def steps(self):\n",
    "        return [\n",
    "            MRStep(mapper=self.mapFun,\n",
    "                   combiner=self.combineFun,\n",
    "                   reducer=self.reduceFun),\n",
    "            MRStep(mapper=self.top10_mapper,\n",
    "                   reducer=self.top10_reducer)\n",
    "        ]\n",
    "\n",
    "\n",
    "if __name__ == '__main__':\n",
    "    BigramCount.run()"
   ]
  },
  {
   "cell_type": "markdown",
   "metadata": {},
   "source": [
    "**References:**\n",
    "    \n",
    "    https://stackoverflow.com/questions/14168601/nltk-makes-it-easy-to-compute-bigrams-of-words-what-about-letters\n",
    "    https://stackoverflow.com/questions/45183393/use-mrjob-to-count-bigram-accur-type-error\n",
    "        \n",
    "    "
   ]
  },
  {
   "cell_type": "code",
   "execution_count": 9,
   "metadata": {},
   "outputs": [
    {
     "name": "stderr",
     "output_type": "stream",
     "text": [
      "/Users/rashmimahesh/Desktop/MyPython/HW5/code/HW5bigram1.py:26: SyntaxWarning: name 'TOP10' is used prior to global declaration\n",
      "  global TOP10\n",
      "No configs found; falling back on auto-configuration\n",
      "No configs found; falling back on auto-configuration\n",
      "No configs specified for inline runner\n",
      "No configs specified for inline runner\n",
      "Running step 1 of 2...\n",
      "Running step 1 of 2...\n",
      "Creating temp directory /var/folders/54/s4nndgq53ml0qj_q2pqp8hhm0000gp/T/HW5bigram1.rashmimahesh.20181016.023205.632291\n",
      "Creating temp directory /var/folders/54/s4nndgq53ml0qj_q2pqp8hhm0000gp/T/HW5bigram1.rashmimahesh.20181016.023205.632291\n",
      "Running step 2 of 2...\n",
      "Running step 2 of 2...\n",
      "job output is in /var/folders/54/s4nndgq53ml0qj_q2pqp8hhm0000gp/T/HW5bigram1.rashmimahesh.20181016.023205.632291/output\n",
      "job output is in /var/folders/54/s4nndgq53ml0qj_q2pqp8hhm0000gp/T/HW5bigram1.rashmimahesh.20181016.023205.632291/output\n",
      "Streaming final output from /var/folders/54/s4nndgq53ml0qj_q2pqp8hhm0000gp/T/HW5bigram1.rashmimahesh.20181016.023205.632291/output...\n",
      "Streaming final output from /var/folders/54/s4nndgq53ml0qj_q2pqp8hhm0000gp/T/HW5bigram1.rashmimahesh.20181016.023205.632291/output...\n"
     ]
    },
    {
     "name": "stdout",
     "output_type": "stream",
     "text": [
      "10\t[207, \"said the\"]\n",
      "9\t[129, \"of the\"]\n",
      "8\t[116, \"said Alice\"]\n",
      "7\t[95, \"in a\"]\n",
      "6\t[77, \"in the\"]\n",
      "5\t[76, \"and the\"]\n",
      "4\t[69, \"to the\"]\n",
      "3\t[62, \"the Queen\"]\n",
      "2\t[60, \"it was\"]\n",
      "1\t[59, \"at the\"]\n"
     ]
    },
    {
     "name": "stderr",
     "output_type": "stream",
     "text": [
      "Removing temp directory /var/folders/54/s4nndgq53ml0qj_q2pqp8hhm0000gp/T/HW5bigram1.rashmimahesh.20181016.023205.632291...\n",
      "Removing temp directory /var/folders/54/s4nndgq53ml0qj_q2pqp8hhm0000gp/T/HW5bigram1.rashmimahesh.20181016.023205.632291...\n"
     ]
    }
   ],
   "source": [
    "%run code/HW5bigram1.py data/canterbury/alice29.txt"
   ]
  },
  {
   "cell_type": "markdown",
   "metadata": {},
   "source": [
    "## Homework 5.2\n",
    "Now do the same analysis but make the word order not count \"in the\" == \"the in\".  Find the 10 most common ordered bigrams from the alice text.  "
   ]
  },
  {
   "cell_type": "code",
   "execution_count": 10,
   "metadata": {},
   "outputs": [
    {
     "name": "stdout",
     "output_type": "stream",
     "text": [
      "Writing code/HW5bigram2.py\n"
     ]
    }
   ],
   "source": [
    "%%writefile code/HW5bigram2.py\n",
    "import mrjob\n",
    "from mrjob.job import MRJob\n",
    "from mrjob.step import MRStep\n",
    "import re\n",
    "from itertools import islice, izip\n",
    "import itertools\n",
    "import heapq\n",
    "\n",
    "f = re.compile(r'[a-zA-Z]+')\n",
    "TOP10 = 10\n",
    "\n",
    "class BigramCount(MRJob): \n",
    "    def mapFun(self, _, line):\n",
    "        words = f.findall(line)\n",
    "        for i in izip(words, islice(words, 1, None)):\n",
    "            bigram =(i[0],i[1])\n",
    "            sort_bigram = sorted(bigram)\n",
    "            yield sort_bigram, 1 \n",
    "    def combineFun(self, bigram, counts):\n",
    "        yield bigram, sum(counts) \n",
    "    def reduceFun(self, bigram, counts):\n",
    "        yield bigram,sum(counts) \n",
    "    def top10_mapper(self, bigram, counts):\n",
    "        yield \"Top \" + str(TOP10), (counts, bigram) \n",
    "    def top10_reducer(self, _, countsAndBigrams):\n",
    "        for countsAndbigrams in heapq.nlargest(TOP10, countsAndBigrams):\n",
    "            global TOP10\n",
    "            output = (TOP10, countsAndbigrams)\n",
    "            TOP10 = TOP10 - 1    \n",
    "            yield output\n",
    "            \n",
    "\n",
    "    def steps(self):\n",
    "        return [\n",
    "            MRStep(mapper=self.mapFun,\n",
    "                   combiner=self.combineFun,\n",
    "                   reducer=self.reduceFun),\n",
    "            MRStep(mapper=self.top10_mapper,\n",
    "                   reducer=self.top10_reducer)\n",
    "        ]\n",
    "\n",
    "\n",
    "if __name__ == '__main__':\n",
    "    BigramCount.run()"
   ]
  },
  {
   "cell_type": "code",
   "execution_count": 11,
   "metadata": {},
   "outputs": [
    {
     "name": "stderr",
     "output_type": "stream",
     "text": [
      "/Users/rashmimahesh/Desktop/MyPython/HW5/code/HW5bigram2.py:27: SyntaxWarning: name 'TOP10' is used prior to global declaration\n",
      "  global TOP10\n",
      "No configs found; falling back on auto-configuration\n",
      "No configs found; falling back on auto-configuration\n",
      "No configs found; falling back on auto-configuration\n",
      "No configs specified for inline runner\n",
      "No configs specified for inline runner\n",
      "No configs specified for inline runner\n",
      "Running step 1 of 2...\n",
      "Running step 1 of 2...\n",
      "Running step 1 of 2...\n",
      "Creating temp directory /var/folders/54/s4nndgq53ml0qj_q2pqp8hhm0000gp/T/HW5bigram2.rashmimahesh.20181016.023553.285442\n",
      "Creating temp directory /var/folders/54/s4nndgq53ml0qj_q2pqp8hhm0000gp/T/HW5bigram2.rashmimahesh.20181016.023553.285442\n",
      "Creating temp directory /var/folders/54/s4nndgq53ml0qj_q2pqp8hhm0000gp/T/HW5bigram2.rashmimahesh.20181016.023553.285442\n",
      "Running step 2 of 2...\n",
      "Running step 2 of 2...\n",
      "Running step 2 of 2...\n",
      "job output is in /var/folders/54/s4nndgq53ml0qj_q2pqp8hhm0000gp/T/HW5bigram2.rashmimahesh.20181016.023553.285442/output\n",
      "job output is in /var/folders/54/s4nndgq53ml0qj_q2pqp8hhm0000gp/T/HW5bigram2.rashmimahesh.20181016.023553.285442/output\n",
      "job output is in /var/folders/54/s4nndgq53ml0qj_q2pqp8hhm0000gp/T/HW5bigram2.rashmimahesh.20181016.023553.285442/output\n",
      "Streaming final output from /var/folders/54/s4nndgq53ml0qj_q2pqp8hhm0000gp/T/HW5bigram2.rashmimahesh.20181016.023553.285442/output...\n",
      "Streaming final output from /var/folders/54/s4nndgq53ml0qj_q2pqp8hhm0000gp/T/HW5bigram2.rashmimahesh.20181016.023553.285442/output...\n",
      "Streaming final output from /var/folders/54/s4nndgq53ml0qj_q2pqp8hhm0000gp/T/HW5bigram2.rashmimahesh.20181016.023553.285442/output...\n"
     ]
    },
    {
     "name": "stdout",
     "output_type": "stream",
     "text": [
      "10\t[207, [\"said\", \"the\"]]\n",
      "9\t[129, [\"of\", \"the\"]]\n",
      "8\t[127, [\"Alice\", \"said\"]]\n",
      "7\t[95, [\"a\", \"in\"]]\n",
      "6\t[77, [\"in\", \"the\"]]\n",
      "5\t[76, [\"and\", \"the\"]]\n",
      "4\t[69, [\"the\", \"to\"]]\n",
      "3\t[63, [\"Queen\", \"the\"]]\n",
      "2\t[61, [\"it\", \"was\"]]\n",
      "1\t[59, [\"at\", \"the\"]]\n"
     ]
    },
    {
     "name": "stderr",
     "output_type": "stream",
     "text": [
      "Removing temp directory /var/folders/54/s4nndgq53ml0qj_q2pqp8hhm0000gp/T/HW5bigram2.rashmimahesh.20181016.023553.285442...\n",
      "Removing temp directory /var/folders/54/s4nndgq53ml0qj_q2pqp8hhm0000gp/T/HW5bigram2.rashmimahesh.20181016.023553.285442...\n",
      "Removing temp directory /var/folders/54/s4nndgq53ml0qj_q2pqp8hhm0000gp/T/HW5bigram2.rashmimahesh.20181016.023553.285442...\n"
     ]
    }
   ],
   "source": [
    "%run code/HW5bigram2.py data/canterbury/alice29.txt"
   ]
  },
  {
   "cell_type": "markdown",
   "metadata": {},
   "source": [
    "## Homework 5.3\n",
    "A trigram are three word combintation.  Find the 10 most common ordered trigrams from the alice text.  Make it so that the order of the words do not count in the trigram combination for example \"in the air\" is the same trigram as \"the air in\" or \"air in the\"...\n"
   ]
  },
  {
   "cell_type": "markdown",
   "metadata": {},
   "source": [
    "**Trigrams using NLTK**"
   ]
  },
  {
   "cell_type": "code",
   "execution_count": 30,
   "metadata": {},
   "outputs": [
    {
     "name": "stdout",
     "output_type": "stream",
     "text": [
      "Total Number of Trigrams:\n",
      "21059\n",
      "Top 10 Trigrams\n"
     ]
    },
    {
     "data": {
      "text/plain": [
       "[(('the', 'Mock', 'Turtle'), 44),\n",
       " (('said', 'the', 'King'), 29),\n",
       " (('the', 'March', 'Hare'), 27),\n",
       " (('said', 'the', 'Hatter'), 21),\n",
       " (('the', 'White', 'Rabbit'), 20),\n",
       " (('said', 'to', 'herself'), 18),\n",
       " (('said', 'the', 'Caterpillar'), 18),\n",
       " (('said', 'the', 'Mock'), 18),\n",
       " (('she', 'said', 'to'), 16),\n",
       " (('said', 'the', 'Duchess'), 15)]"
      ]
     },
     "execution_count": 30,
     "metadata": {},
     "output_type": "execute_result"
    }
   ],
   "source": [
    "import nltk\n",
    "from nltk import word_tokenize\n",
    "from nltk.util import ngrams\n",
    "from collections import Counter\n",
    "import itertools\n",
    "from functools import reduce\n",
    "import re\n",
    "\n",
    "\n",
    "fname = 'data/canterbury/alice29.txt'\n",
    "with open(fname) as f:\n",
    "    content = f.readlines()\n",
    "\n",
    "#the readlines is read into an array of 1 element. So content[0] returns the first element which is our text    \n",
    "content = content[0]\n",
    "all_trigrams = []\n",
    "Total_num_of_trigrams = 0\n",
    "\n",
    "for line in content.split(\"\\r\"):\n",
    "    #Strip all special characters except alphanumeric and space\n",
    "    line = re.sub (r'([^a-zA-Z0-9 ]+?)', '', line)\n",
    "    tokens = nltk.word_tokenize(line)    \n",
    "    trigrams = ngrams(tokens,3)\n",
    "    all_trigrams.append(list(trigrams))   \n",
    "\n",
    "# Convert nested array into a flattened 1-dimensional array \n",
    "flat_list_trigrams = [item for sublist in all_trigrams for item in sublist]\n",
    "\n",
    "# total number of trigrams\n",
    "Total_num_of_trigrams = len(flat_list_trigrams)\n",
    "print(\"Total Number of Trigrams:\")\n",
    "print(Total_num_of_trigrams)\n",
    "\n",
    "# To pull out the count of each trigram \n",
    "top_list_trigrams = Counter(flat_list_trigrams)\n",
    "\n",
    "print \"Top 10 Trigrams\"\n",
    "\n",
    "# To print the top 10 most common trigrams\n",
    "top_list_trigrams.most_common(10) \n"
   ]
  },
  {
   "cell_type": "markdown",
   "metadata": {},
   "source": [
    "**Bigrams using Mrjob, Map-Combine-Reduce**"
   ]
  },
  {
   "cell_type": "code",
   "execution_count": 14,
   "metadata": {},
   "outputs": [
    {
     "name": "stdout",
     "output_type": "stream",
     "text": [
      "Overwriting code/HW5bigram3.py\n"
     ]
    }
   ],
   "source": [
    "%%writefile code/HW5bigram3.py\n",
    "import mrjob\n",
    "from mrjob.job import MRJob\n",
    "from mrjob.step import MRStep\n",
    "import re\n",
    "from itertools import islice, izip\n",
    "import itertools\n",
    "import heapq\n",
    "\n",
    "f = re.compile(r'[a-zA-Z]+')\n",
    "TOP10 = 10\n",
    "\n",
    "class BigramCount(MRJob): \n",
    "    def mapFun(self, _, line):\n",
    "        words = f.findall(line)\n",
    "        for i in izip(words, islice(words, 1, None),islice(words,2,None)):\n",
    "            trigram =(i[0],i[1],i[2])\n",
    "            sort_trigram = sorted(trigram)\n",
    "            yield sort_trigram, 1 \n",
    "    def combineFun(self, trigram, counts):\n",
    "        yield trigram, sum(counts) \n",
    "    def reduceFun(self, trigram, counts):\n",
    "        yield trigram,sum(counts) \n",
    "    def top10_mapper(self, trigram, counts):\n",
    "        yield \"Top \" + str(TOP10), (counts, trigram) \n",
    "    def top10_reducer(self, _, countsAndTrigrams):\n",
    "        for countsAndTrigrams in heapq.nlargest(TOP10, countsAndTrigrams):\n",
    "            global TOP10\n",
    "            output = (TOP10, countsAndTrigrams)\n",
    "            TOP10 = TOP10 - 1    \n",
    "            yield output\n",
    "            \n",
    "\n",
    "    def steps(self):\n",
    "        return [\n",
    "            MRStep(mapper=self.mapFun,\n",
    "                   combiner=self.combineFun,\n",
    "                   reducer=self.reduceFun),\n",
    "            MRStep(mapper=self.top10_mapper,\n",
    "                   reducer=self.top10_reducer)\n",
    "        ]\n",
    "\n",
    "\n",
    "if __name__ == '__main__':\n",
    "    BigramCount.run()"
   ]
  },
  {
   "cell_type": "code",
   "execution_count": 15,
   "metadata": {},
   "outputs": [
    {
     "name": "stderr",
     "output_type": "stream",
     "text": [
      "/Users/rashmimahesh/Desktop/MyPython/HW5/code/HW5bigram3.py:27: SyntaxWarning: name 'TOP10' is used prior to global declaration\n",
      "  global TOP10\n",
      "No configs found; falling back on auto-configuration\n",
      "No configs found; falling back on auto-configuration\n",
      "No configs found; falling back on auto-configuration\n",
      "No configs found; falling back on auto-configuration\n",
      "No configs found; falling back on auto-configuration\n",
      "No configs specified for inline runner\n",
      "No configs specified for inline runner\n",
      "No configs specified for inline runner\n",
      "No configs specified for inline runner\n",
      "No configs specified for inline runner\n",
      "Running step 1 of 2...\n",
      "Running step 1 of 2...\n",
      "Running step 1 of 2...\n",
      "Running step 1 of 2...\n",
      "Running step 1 of 2...\n",
      "Creating temp directory /var/folders/54/s4nndgq53ml0qj_q2pqp8hhm0000gp/T/HW5bigram3.rashmimahesh.20181016.024325.685468\n",
      "Creating temp directory /var/folders/54/s4nndgq53ml0qj_q2pqp8hhm0000gp/T/HW5bigram3.rashmimahesh.20181016.024325.685468\n",
      "Creating temp directory /var/folders/54/s4nndgq53ml0qj_q2pqp8hhm0000gp/T/HW5bigram3.rashmimahesh.20181016.024325.685468\n",
      "Creating temp directory /var/folders/54/s4nndgq53ml0qj_q2pqp8hhm0000gp/T/HW5bigram3.rashmimahesh.20181016.024325.685468\n",
      "Creating temp directory /var/folders/54/s4nndgq53ml0qj_q2pqp8hhm0000gp/T/HW5bigram3.rashmimahesh.20181016.024325.685468\n",
      "Running step 2 of 2...\n",
      "Running step 2 of 2...\n",
      "Running step 2 of 2...\n",
      "Running step 2 of 2...\n",
      "Running step 2 of 2...\n",
      "job output is in /var/folders/54/s4nndgq53ml0qj_q2pqp8hhm0000gp/T/HW5bigram3.rashmimahesh.20181016.024325.685468/output\n",
      "job output is in /var/folders/54/s4nndgq53ml0qj_q2pqp8hhm0000gp/T/HW5bigram3.rashmimahesh.20181016.024325.685468/output\n",
      "job output is in /var/folders/54/s4nndgq53ml0qj_q2pqp8hhm0000gp/T/HW5bigram3.rashmimahesh.20181016.024325.685468/output\n",
      "job output is in /var/folders/54/s4nndgq53ml0qj_q2pqp8hhm0000gp/T/HW5bigram3.rashmimahesh.20181016.024325.685468/output\n",
      "job output is in /var/folders/54/s4nndgq53ml0qj_q2pqp8hhm0000gp/T/HW5bigram3.rashmimahesh.20181016.024325.685468/output\n",
      "Streaming final output from /var/folders/54/s4nndgq53ml0qj_q2pqp8hhm0000gp/T/HW5bigram3.rashmimahesh.20181016.024325.685468/output...\n",
      "Streaming final output from /var/folders/54/s4nndgq53ml0qj_q2pqp8hhm0000gp/T/HW5bigram3.rashmimahesh.20181016.024325.685468/output...\n",
      "Streaming final output from /var/folders/54/s4nndgq53ml0qj_q2pqp8hhm0000gp/T/HW5bigram3.rashmimahesh.20181016.024325.685468/output...\n",
      "Streaming final output from /var/folders/54/s4nndgq53ml0qj_q2pqp8hhm0000gp/T/HW5bigram3.rashmimahesh.20181016.024325.685468/output...\n",
      "Streaming final output from /var/folders/54/s4nndgq53ml0qj_q2pqp8hhm0000gp/T/HW5bigram3.rashmimahesh.20181016.024325.685468/output...\n"
     ]
    },
    {
     "name": "stdout",
     "output_type": "stream",
     "text": [
      "10\t[49, [\"Mock\", \"Turtle\", \"the\"]]\n",
      "9\t[37, [\"King\", \"said\", \"the\"]]\n",
      "8\t[30, [\"I\", \"don\", \"t\"]]\n",
      "7\t[29, [\"Hare\", \"March\", \"the\"]]\n",
      "6\t[24, [\"t\", \"won\", \"you\"]]\n",
      "5\t[23, [\"Hatter\", \"said\", \"the\"]]\n",
      "4\t[20, [\"Rabbit\", \"White\", \"the\"]]\n",
      "3\t[19, [\"herself\", \"said\", \"to\"]]\n",
      "2\t[19, [\"Mock\", \"said\", \"the\"]]\n",
      "1\t[19, [\"Gryphon\", \"said\", \"the\"]]\n"
     ]
    },
    {
     "name": "stderr",
     "output_type": "stream",
     "text": [
      "Removing temp directory /var/folders/54/s4nndgq53ml0qj_q2pqp8hhm0000gp/T/HW5bigram3.rashmimahesh.20181016.024325.685468...\n",
      "Removing temp directory /var/folders/54/s4nndgq53ml0qj_q2pqp8hhm0000gp/T/HW5bigram3.rashmimahesh.20181016.024325.685468...\n",
      "Removing temp directory /var/folders/54/s4nndgq53ml0qj_q2pqp8hhm0000gp/T/HW5bigram3.rashmimahesh.20181016.024325.685468...\n",
      "Removing temp directory /var/folders/54/s4nndgq53ml0qj_q2pqp8hhm0000gp/T/HW5bigram3.rashmimahesh.20181016.024325.685468...\n",
      "Removing temp directory /var/folders/54/s4nndgq53ml0qj_q2pqp8hhm0000gp/T/HW5bigram3.rashmimahesh.20181016.024325.685468...\n"
     ]
    }
   ],
   "source": [
    "%run code/HW5bigram3.py data/canterbury/alice29.txt"
   ]
  },
  {
   "cell_type": "markdown",
   "metadata": {},
   "source": [
    "## Homework 5.4\n",
    "Create graphs to explain the relationship of the frequency of monograms ( words ) to bigrams and trigam frequencies"
   ]
  },
  {
   "cell_type": "code",
   "execution_count": 31,
   "metadata": {},
   "outputs": [
    {
     "name": "stdout",
     "output_type": "stream",
     "text": [
      "Number of Monograms:\n",
      "26458\n"
     ]
    }
   ],
   "source": [
    "import nltk\n",
    "from nltk import word_tokenize\n",
    "from nltk.util import ngrams\n",
    "from collections import Counter\n",
    "import itertools\n",
    "from functools import reduce\n",
    "import re\n",
    "\n",
    "Total_Num_of_monograms = 0\n",
    "fname = 'data/canterbury/alice29.txt'\n",
    "with open(fname, 'r') as f:\n",
    "    for line in f:\n",
    "        words = line.split()\n",
    "        Total_Num_of_monograms = len(words)\n",
    "print(\"Number of Monograms:\")\n",
    "print(Total_Num_of_monograms)"
   ]
  },
  {
   "cell_type": "code",
   "execution_count": 67,
   "metadata": {},
   "outputs": [
    {
     "data": {
      "image/png": "[encoded data removed]",
      "text/plain": [
       "<Figure size 432x288 with 1 Axes>"
      ]
     },
     "metadata": {},
     "output_type": "display_data"
    }
   ],
   "source": [
    "import numpy as np\n",
    "import matplotlib.pyplot as plt\n",
    "\n",
    "mono = (26458, 26458,23675)\n",
    "biTri = (23675, 21059, 21059)\n",
    "\n",
    "ind = np.arange(len(mono))  \n",
    "width = 0.3\n",
    "\n",
    "fig, ax = plt.subplots()\n",
    "rects1 = ax.bar(ind - width/2, mono, width,\n",
    "                color='blue', label='Monogram')\n",
    "rects2 = ax.bar(ind + width/2, biTri, width,\n",
    "                color='green', label='BiTrigram')\n",
    "\n",
    "# Add some text for labels, title and custom x-axis tick labels, etc.\n",
    "ax.set_ylabel('Number Comparision')\n",
    "ax.set_title('Mono-Bi-Tri grams Comparision')\n",
    "ax.set_xticks(ind)\n",
    "ax.set_xticklabels(('Mono-Bi', 'Mono-Tri', 'Bi-Tri'))\n",
    "\n",
    "\n",
    "def autolabel(rects, xpos='center'):\n",
    "\n",
    "    xpos = xpos.lower()  \n",
    "    ha = {'center': 'center', 'right': 'left', 'left': 'right'}\n",
    "    offset = {'center': 0.5, 'right': 0.5, 'left': 0.5}  \n",
    "\n",
    "    for rect in rects:\n",
    "        height = rect.get_height()\n",
    "        ax.text(rect.get_x() + rect.get_width()*offset[xpos], 1.0001*height,\n",
    "                '{}'.format(height), ha=ha[xpos], va='bottom')\n",
    "\n",
    "\n",
    "autolabel(rects1, \"left\")\n",
    "autolabel(rects2, \"right\")\n",
    "\n",
    "plt.show()"
   ]
  }
 ],
 "metadata": {
  "kernelspec": {
   "display_name": "Python 2",
   "language": "python",
   "name": "python2"
  },
  "language_info": {
   "codemirror_mode": {
    "name": "ipython",
    "version": 2
   },
   "file_extension": ".py",
   "mimetype": "text/x-python",
   "name": "python",
   "nbconvert_exporter": "python",
   "pygments_lexer": "ipython2",
   "version": "2.7.15"
  }
 },
 "nbformat": 4,
 "nbformat_minor": 1
}
