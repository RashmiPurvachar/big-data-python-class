{
 "cells": [
  {
   "cell_type": "markdown",
   "metadata": {},
   "source": [
    "# HW 6.1"
   ]
  },
  {
   "cell_type": "code",
   "execution_count": null,
   "metadata": {
    "collapsed": true
   },
   "outputs": [],
   "source": []
  },
  {
   "cell_type": "markdown",
   "metadata": {},
   "source": [
    "\n",
    "## 6.1.1\n",
    "Write a function, flip_sum,  which generates $n$ random coin flips from a fair coin and then returns the number of heads. \n",
    "\n",
    "A fair coin is defined to be a coin where $P($heads$)=\\frac{1}{2}$\n",
    "\n",
    "The output type should be a numpy integer, hint: use random.rand()\n"
   ]
  },
  {
   "cell_type": "code",
   "execution_count": null,
   "metadata": {
    "collapsed": true
   },
   "outputs": [],
   "source": []
  },
  {
   "cell_type": "markdown",
   "metadata": {},
   "source": [
    "## 6.1.2 Test it \n",
    "Check it by showing the results of 100 coins being flipped"
   ]
  },
  {
   "cell_type": "code",
   "execution_count": null,
   "metadata": {
    "collapsed": true
   },
   "outputs": [],
   "source": []
  },
  {
   "cell_type": "markdown",
   "metadata": {},
   "source": [
    "## 6.1.3 Create and display a histogram of 200 experiments of flipping 5 coins."
   ]
  },
  {
   "cell_type": "code",
   "execution_count": null,
   "metadata": {
    "collapsed": true
   },
   "outputs": [],
   "source": []
  },
  {
   "cell_type": "markdown",
   "metadata": {},
   "source": [
    "# 6.2\n",
    "\n",
    "Write a function, estimate_prob, that uses flip_sum to estimate the following probability:\n",
    "\n",
    "$P( $k_1$ <=$number of heads in $n$ flips$ < $k_2$ ) $\n",
    "\n",
    "The function should estimate the probability by running $m$ different trials of flip_sum(n), probably using a for loop.\n",
    "\n",
    "In order to receive full credit estimate_prob call flip_sum (aka: flip_sum is located inside the estimate_prob function)"
   ]
  },
  {
   "cell_type": "code",
   "execution_count": null,
   "metadata": {
    "collapsed": true
   },
   "outputs": [],
   "source": [
    "https://github.com/VSerpak/DSE210x-Statistics-and-Probability-in-Data-Science-using-Python/blob/master/Week%201%20Introduction%20to%20Statistics%20and%20Probability/1.8%20HW_1.ipynb"
   ]
  },
  {
   "cell_type": "code",
   "execution_count": null,
   "metadata": {
    "collapsed": true
   },
   "outputs": [],
   "source": []
  }
 ],
 "metadata": {
  "kernelspec": {
   "display_name": "Python 2",
   "language": "python",
   "name": "python2"
  },
  "language_info": {
   "codemirror_mode": {
    "name": "ipython",
    "version": 2
   },
   "file_extension": ".py",
   "mimetype": "text/x-python",
   "name": "python",
   "nbconvert_exporter": "python",
   "pygments_lexer": "ipython2",
   "version": "2.7.10"
  }
 },
 "nbformat": 4,
 "nbformat_minor": 2
}
